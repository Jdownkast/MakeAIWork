{
 "cells": [
  {
   "cell_type": "code",
   "execution_count": 58,
   "id": "b777f000-48a5-4fd7-bec0-917dde2b9954",
   "metadata": {},
   "outputs": [
    {
     "name": "stdout",
     "output_type": "stream",
     "text": [
      "   count                                  next previous  \\\n",
      "0     82  https://swapi.dev/api/people/?page=2     None   \n",
      "1     82  https://swapi.dev/api/people/?page=2     None   \n",
      "2     82  https://swapi.dev/api/people/?page=2     None   \n",
      "3     82  https://swapi.dev/api/people/?page=2     None   \n",
      "4     82  https://swapi.dev/api/people/?page=2     None   \n",
      "5     82  https://swapi.dev/api/people/?page=2     None   \n",
      "6     82  https://swapi.dev/api/people/?page=2     None   \n",
      "7     82  https://swapi.dev/api/people/?page=2     None   \n",
      "8     82  https://swapi.dev/api/people/?page=2     None   \n",
      "9     82  https://swapi.dev/api/people/?page=2     None   \n",
      "\n",
      "                                             results  \n",
      "0  {'name': 'Luke Skywalker', 'height': '172', 'm...  \n",
      "1  {'name': 'C-3PO', 'height': '167', 'mass': '75...  \n",
      "2  {'name': 'R2-D2', 'height': '96', 'mass': '32'...  \n",
      "3  {'name': 'Darth Vader', 'height': '202', 'mass...  \n",
      "4  {'name': 'Leia Organa', 'height': '150', 'mass...  \n",
      "5  {'name': 'Owen Lars', 'height': '178', 'mass':...  \n",
      "6  {'name': 'Beru Whitesun lars', 'height': '165'...  \n",
      "7  {'name': 'R5-D4', 'height': '97', 'mass': '32'...  \n",
      "8  {'name': 'Biggs Darklighter', 'height': '183',...  \n",
      "9  {'name': 'Obi-Wan Kenobi', 'height': '182', 'm...  \n"
     ]
    }
   ],
   "source": [
    "import requests\n",
    "import pandas as pd\n",
    "\n",
    "url = \"http://swapi.dev/api/people\"\n",
    "response = requests.get(url)\n",
    "result = response.json()\n",
    "\n",
    "df = pd.DataFrame(result)\n",
    "print(df)\n"
   ]
  },
  {
   "cell_type": "code",
   "execution_count": null,
   "id": "694075ad-6305-4145-8014-296867e05652",
   "metadata": {},
   "outputs": [],
   "source": []
  }
 ],
 "metadata": {
  "kernelspec": {
   "display_name": "Python 3 (ipykernel)",
   "language": "python",
   "name": "python3"
  },
  "language_info": {
   "codemirror_mode": {
    "name": "ipython",
    "version": 3
   },
   "file_extension": ".py",
   "mimetype": "text/x-python",
   "name": "python",
   "nbconvert_exporter": "python",
   "pygments_lexer": "ipython3",
   "version": "3.10.10"
  }
 },
 "nbformat": 4,
 "nbformat_minor": 5
}
