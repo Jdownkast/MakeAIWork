{
 "cells": [
  {
   "cell_type": "markdown",
   "id": "39ad5385-bd3b-4733-8583-aaee47dfd023",
   "metadata": {},
   "source": [
    "<a href=\"https://it-omscholing.nl/locaties/hogeschool-rotterdam/\">\n",
    "<div>\n",
    "<a><img src='../pics/banner.PNG'/></a>\n",
    "</div>\n",
    "<div>\n",
    "<a href=''><img src='../pics/miw.PNG'/></a>\n",
    "<em>Author: Jeroen Boogaard</em>\n",
    "</div>\n",
    "</a>"
   ]
  },
  {
   "cell_type": "markdown",
   "id": "2e3ab9dd-f769-4b88-87d0-59bb6af381f6",
   "metadata": {},
   "source": [
    "<h1>Samengestelde variabelen - Sets</h1>"
   ]
  },
  {
   "cell_type": "markdown",
   "id": "1dd30cb7-4573-48b9-9b50-4e64b414213e",
   "metadata": {},
   "source": [
    "**Een set is een <u>mutable</u> dataverzameling van <u>unieke</u> elementen.**"
   ]
  },
  {
   "cell_type": "markdown",
   "id": "443e2275-c790-4153-82c2-f08782f7856c",
   "metadata": {},
   "source": [
    "<h3>Set variabelen aanmaken en afdrukken</h3>"
   ]
  },
  {
   "cell_type": "code",
   "execution_count": 7,
   "id": "b5ca0430-4eb8-4eeb-a899-151ebbbf7f13",
   "metadata": {
    "tags": []
   },
   "outputs": [
    {
     "name": "stdout",
     "output_type": "stream",
     "text": [
      "{'Pioneer', 'Voyager'}\n"
     ]
    }
   ],
   "source": [
    "spaceCrafts = set()\n",
    "spaceCrafts = {\"Pioneer\", \"Voyager\"}\n",
    "print(spaceCrafts)"
   ]
  },
  {
   "cell_type": "raw",
   "id": "15eaabd3-5697-474e-9a46-a384a242c8a4",
   "metadata": {},
   "source": [
    "Elementen kunnen aan een bestaande set worden toegevoegd.."
   ]
  },
  {
   "cell_type": "code",
   "execution_count": 8,
   "id": "e8e00fbb-0a04-4754-9fdc-0ea3bc54f43e",
   "metadata": {
    "tags": []
   },
   "outputs": [],
   "source": [
    "spaceCrafts.add(\"Voyager2\")"
   ]
  },
  {
   "cell_type": "raw",
   "id": "93db2ef6-ce73-4ce3-8cff-7aa0babea2f2",
   "metadata": {},
   "source": [
    "maar elk element komt slechts 1 keer voor"
   ]
  },
  {
   "cell_type": "code",
   "execution_count": 9,
   "id": "e51fcac8-8062-4c48-bc39-d191f7742c65",
   "metadata": {
    "tags": []
   },
   "outputs": [
    {
     "name": "stdout",
     "output_type": "stream",
     "text": [
      "{'Pioneer', 'Voyager2', 'Voyager'}\n"
     ]
    }
   ],
   "source": [
    "print(spaceCrafts)"
   ]
  },
  {
   "cell_type": "markdown",
   "id": "7e55fb56-f386-4785-8841-90d1844db4d7",
   "metadata": {},
   "source": [
    "<h3>Exercise 1</h3>\n",
    "<h4>Gegeven</h4>"
   ]
  },
  {
   "cell_type": "code",
   "execution_count": 10,
   "id": "065d6065-9d59-47f3-ba49-0c6cd4dd15f3",
   "metadata": {
    "tags": []
   },
   "outputs": [
    {
     "name": "stdout",
     "output_type": "stream",
     "text": [
      "[0, 1, 1, 2, 3, 5, 8, 13, 21, 34, 55, 89, 144, 233, 377]\n"
     ]
    }
   ],
   "source": [
    "fibonacciList = [0, 1, 1, 2, 3, 5, 8, 13, 21, 34, 55, 89, 144, 233, 377]\n",
    "print(fibonacciList)"
   ]
  },
  {
   "cell_type": "markdown",
   "id": "def776af-43e4-4bd7-a17b-8778b318dcfd",
   "metadata": {},
   "source": [
    "<h4>Gevraagd</h4>\n",
    "<p>Maak gebruik van <u>casting</u> om variabele <i>fibonacciList</i> te ontdubbelen</p>"
   ]
  },
  {
   "cell_type": "markdown",
   "id": "4eabe9bd-dd7f-4f83-872f-e63e25146ca4",
   "metadata": {},
   "source": [
    "<h4>Oplossing</h4>"
   ]
  },
  {
   "cell_type": "code",
   "execution_count": 11,
   "id": "65a28c92-758e-49b9-b2b6-bd78e79e7642",
   "metadata": {
    "tags": []
   },
   "outputs": [
    {
     "name": "stdout",
     "output_type": "stream",
     "text": [
      "[0, 1, 2, 3, 34, 5, 8, 233, 377, 13, 144, 21, 55, 89]\n"
     ]
    }
   ],
   "source": [
    "fibonacciList = list(set(fibonacciList))\n",
    "print(fibonacciList)"
   ]
  },
  {
   "cell_type": "markdown",
   "id": "3c57550b-cd11-4a6d-a806-946830cbb1cd",
   "metadata": {},
   "source": [
    "<h3>Operaties</h3>"
   ]
  },
  {
   "cell_type": "code",
   "execution_count": 12,
   "id": "46e0e7e4-1cc9-47f3-bc53-d3888252e583",
   "metadata": {
    "tags": []
   },
   "outputs": [],
   "source": [
    "nordics = {\"Denmark\", \"Finland\", \"Iceland\", \"Norway\"}\n",
    "baltics = {\"Estonia\", \"Latvia\", \"Lithuania\"}\n",
    "eu = {\"Austria\", \"Belgium\", \"Bulgaria\", \"Croatia\", \"Cyprus\", \"Czechia\", \"Denmark\", \"Estonia\", \"Finland\", \"France\", \"Germany\", \"Greece\", \"Hungary\", \"Ireland\", \"Italy\", \"Latvia\", \"Lithuania\", \"Luxembourg\", \"Malta\", \"The Netherlands\", \"Poland\", \"Portugal\", \"Romania\", \"Slovakia\", \"Slovenia\", \"Spain\", \"Sweden\"}"
   ]
  },
  {
   "cell_type": "markdown",
   "id": "b2c79908-ca34-4657-8481-7a959aa046a5",
   "metadata": {},
   "source": [
    "<h3>Exercise 2</h3>\n",
    "<h4>Gegeven</h4>"
   ]
  },
  {
   "cell_type": "code",
   "execution_count": 13,
   "id": "96daa91c-96a8-41a7-b202-6e4a77876ef0",
   "metadata": {
    "tags": []
   },
   "outputs": [],
   "source": [
    "benelux = {\"Belgium\", \"The Netherlands\", \"Luxembourg\"}"
   ]
  },
  {
   "cell_type": "markdown",
   "id": "80d32381-df51-4185-a4ba-1ed9cf9c6ba2",
   "metadata": {},
   "source": [
    "<h4>Gevraagd</h4>\n",
    "<p>Maak een String met als <u>value</u> \"BeNeLux\" die is opgebouwd uit de letters van corresponderende items uit de set <i>benelux</i> zonder de set variabele zelf aan te passen</p>\n",
    "<p>Hints:<ol>\n",
    "    <li>Maak gebruik (tijdelijke) variable van het type list</li>\n",
    "    <li>Pas daarin het item \"The Netherlands zodat het consistent is met de andere items</li>\n",
    "</ol></p>    "
   ]
  },
  {
   "cell_type": "markdown",
   "id": "871adbea-f738-4d20-8fe9-50ef3e6cbd15",
   "metadata": {},
   "source": [
    "<h4>Oplossing</h4>"
   ]
  },
  {
   "cell_type": "code",
   "execution_count": 20,
   "id": "53417987-3497-4658-a6e1-02d9370b966a",
   "metadata": {
    "tags": []
   },
   "outputs": [],
   "source": [
    "benelux = {\"Denmark\", \"The Netherlands\", \"Luxembourg\"}\n",
    "beneluxList = list()\n",
    "\n",
    "#for i in range(0, len(benelux)):\n",
    "#    beneluxList.append(benelux.pop().replace('The ', ''))\n",
    "\n",
    "# beneluxStr = f\"{beneluxList[0][:2]}{beneluxList[2][:2]}{beneluxList[1][:3]}\"\n",
    "# print(beneluxStr)    "
   ]
  },
  {
   "cell_type": "markdown",
   "id": "978e6a57-c504-4a92-8926-c7d1bd6d5027",
   "metadata": {},
   "source": [
    "<h3>Visualisatie</h3>"
   ]
  },
  {
   "cell_type": "markdown",
   "id": "3b6e45d3-f358-4ffc-87a0-ae0bb5aa424b",
   "metadata": {},
   "source": [
    "<p>Open een (git)bash terminal en run<br>\n",
    "    <i>pip install matplotlib-venn</i>\n",
    "<p>"
   ]
  },
  {
   "cell_type": "markdown",
   "id": "1a0ef2e6-bd8b-4bc0-a6b3-cdaadd2b2942",
   "metadata": {},
   "source": [
    "Vervolgens importeren we de modules <i>venn2</i>, <i>venn3</i> en <i>pylot</i>"
   ]
  },
  {
   "cell_type": "code",
   "execution_count": 5,
   "id": "a0d796dc-7580-4937-a2cc-09d5b5c4e432",
   "metadata": {
    "tags": []
   },
   "outputs": [],
   "source": [
    "from matplotlib_venn import venn2, venn3\n",
    "from matplotlib import pyplot as plt"
   ]
  },
  {
   "cell_type": "markdown",
   "id": "e376b04f-106c-4e3b-aeb5-79af2221a522",
   "metadata": {},
   "source": [
    "**Gebruik een Venn diagram om Sets en hun relaties te visualiseren**"
   ]
  },
  {
   "cell_type": "markdown",
   "id": "ad3f1cb6-7c43-4636-bf27-f1cd811cd140",
   "metadata": {},
   "source": [
    "<p>De Sets benelux, nordics en baltics zijn <strong>disjunct</strong>..</p>"
   ]
  },
  {
   "cell_type": "code",
   "execution_count": 23,
   "id": "1a90d4ce-5d4b-45eb-becb-9a041ee81510",
   "metadata": {
    "tags": []
   },
   "outputs": [
    {
     "data": {
      "image/png": "[encoded data removed]",
      "text/plain": [
       "<Figure size 640x480 with 1 Axes>"
      ]
     },
     "metadata": {},
     "output_type": "display_data"
    }
   ],
   "source": [
    "venn3([benelux, nordics, baltics], ('Benelux', 'Nordics', 'Baltics'))\n",
    "plt.show()"
   ]
  },
  {
   "cell_type": "markdown",
   "id": "7e2160a3-a90e-4d16-9f11-5f39458c5f9d",
   "metadata": {},
   "source": [
    "<p>dat wil zeggen dat ze geen enkel item met elkaar gemeen hebben</p>"
   ]
  },
  {
   "cell_type": "code",
   "execution_count": 24,
   "id": "7e84e822-09ec-4b96-9268-6208c53535c1",
   "metadata": {
    "tags": []
   },
   "outputs": [
    {
     "data": {
      "text/plain": [
       "{'Estonia',\n",
       " 'Finland',\n",
       " 'Iceland',\n",
       " 'Latvia',\n",
       " 'Lithuania',\n",
       " 'Luxembourg',\n",
       " 'Norway',\n",
       " 'The Netherlands'}"
      ]
     },
     "execution_count": 24,
     "metadata": {},
     "output_type": "execute_result"
    }
   ],
   "source": [
    "benelux.symmetric_difference(nordics).symmetric_difference(baltics)"
   ]
  },
  {
   "cell_type": "markdown",
   "id": "ea751320-05f1-41d1-97ba-3f8de4240166",
   "metadata": {},
   "source": [
    "**Gebruik <i>union</i> om verzamelingen verenigen**"
   ]
  },
  {
   "cell_type": "code",
   "execution_count": 25,
   "id": "4f803d2e-f0cc-43bf-a5b9-f282adb27811",
   "metadata": {
    "tags": []
   },
   "outputs": [
    {
     "data": {
      "image/png": "[encoded data removed]",
      "text/plain": [
       "<Figure size 640x480 with 1 Axes>"
      ]
     },
     "metadata": {},
     "output_type": "display_data"
    }
   ],
   "source": [
    "subUnion = benelux.union(nordics).union(baltics)\n",
    "venn2([benelux, subUnion], ('Benelux', 'Benelux, Nordics and Baltics'))\n",
    "plt.show()"
   ]
  },
  {
   "cell_type": "markdown",
   "id": "b67a0424-1e9a-4b4d-952e-aa1d351c14cb",
   "metadata": {},
   "source": [
    "<p>De Sets benelux, nordics en baltics zijn allen een eigen <strong>subset</strong> van eu</p>"
   ]
  },
  {
   "cell_type": "markdown",
   "id": "3229dad1-3579-41bd-b4e6-8d49f5c04ed4",
   "metadata": {},
   "source": [
    "<p>Niet alle landen uit <i>subUnion</i> zijn lid van de Europese Unie</p>"
   ]
  },
  {
   "cell_type": "code",
   "execution_count": 26,
   "id": "7678cfc6-6e6a-4132-b221-1e303c28ef4f",
   "metadata": {
    "tags": []
   },
   "outputs": [
    {
     "data": {
      "text/plain": [
       "False"
      ]
     },
     "execution_count": 26,
     "metadata": {},
     "output_type": "execute_result"
    }
   ],
   "source": [
    "baltics.issubset(eu) and benelux.issubset(eu) and nordics.issubset(eu)"
   ]
  },
  {
   "cell_type": "markdown",
   "id": "e6dc0310-0784-434a-acc1-5a21b4a4b2c5",
   "metadata": {},
   "source": [
    "**Gebruik de methode <i>intersection</i> voor de doorsnede van twee Sets**"
   ]
  },
  {
   "cell_type": "code",
   "execution_count": 27,
   "id": "e79a1f39-afc1-43f1-a060-3e6a7976b5fd",
   "metadata": {
    "tags": []
   },
   "outputs": [
    {
     "data": {
      "text/plain": [
       "{'Denmark', 'Finland'}"
      ]
     },
     "execution_count": 27,
     "metadata": {},
     "output_type": "execute_result"
    }
   ],
   "source": [
    "eu.intersection(nordics)"
   ]
  },
  {
   "cell_type": "code",
   "execution_count": 28,
   "id": "789bb115-e680-4d25-8646-709ba8e8e346",
   "metadata": {
    "tags": []
   },
   "outputs": [
    {
     "data": {
      "image/png": "[encoded data removed]",
      "text/plain": [
       "<Figure size 640x480 with 1 Axes>"
      ]
     },
     "metadata": {},
     "output_type": "display_data"
    }
   ],
   "source": [
    "venn2([eu, subUnion], ('EU', 'Benelux, Nordics and Baltics'))\n",
    "plt.show()"
   ]
  },
  {
   "cell_type": "markdown",
   "id": "ad46e130-fa09-45b4-b153-f2ce9a844009",
   "metadata": {},
   "source": [
    "<h3>Exercise 3</h3>\n",
    "<p>Gebruik de methode <u>difference</u> om de landen weer te geven die (nog) geen lid zijn van de EU</p>"
   ]
  },
  {
   "cell_type": "code",
   "execution_count": 29,
   "id": "38cc4967-92d4-46de-80c7-835296449c29",
   "metadata": {
    "tags": []
   },
   "outputs": [
    {
     "data": {
      "text/plain": [
       "{'Iceland', 'Norway'}"
      ]
     },
     "execution_count": 29,
     "metadata": {},
     "output_type": "execute_result"
    }
   ],
   "source": [
    "nordics.difference(eu)"
   ]
  },
  {
   "cell_type": "code",
   "execution_count": null,
   "id": "f70db5f3-54e1-4c7d-8a52-eea879ac6cb1",
   "metadata": {},
   "outputs": [],
   "source": []
  }
 ],
 "metadata": {
  "kernelspec": {
   "display_name": "Python 3 (ipykernel)",
   "language": "python",
   "name": "python3"
  },
  "language_info": {
   "codemirror_mode": {
    "name": "ipython",
    "version": 3
   },
   "file_extension": ".py",
   "mimetype": "text/x-python",
   "name": "python",
   "nbconvert_exporter": "python",
   "pygments_lexer": "ipython3",
   "version": "3.10.10"
  },
  "vscode": {
   "interpreter": {
    "hash": "aee8b7b246df8f9039afb4144a1f6fd8d2ca17a180786b69acc140d282b71a49"
   }
  }
 },
 "nbformat": 4,
 "nbformat_minor": 5
}
