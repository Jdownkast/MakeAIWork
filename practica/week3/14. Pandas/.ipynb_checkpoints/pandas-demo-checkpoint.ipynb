{
 "cells": [
  {
   "cell_type": "markdown",
   "id": "0115ae64",
   "metadata": {},
   "source": [
    "# Referenties"
   ]
  },
  {
   "cell_type": "markdown",
   "id": "0e4b86b7",
   "metadata": {},
   "source": [
    "Altijd beginnen met 'getting started':\n",
    "\n",
    "https://pandas.pydata.org/docs/getting_started/index.html#getting-started\n",
    "\n",
    "Dan een snel overzicht:\n",
    "\n",
    "https://pandas.pydata.org/docs/user_guide/10min.html\n",
    "\n",
    "Daarna kijken naar de API beschrijving:\n",
    "\n",
    "https://pandas.pydata.org/docs/reference/index.html"
   ]
  },
  {
   "cell_type": "markdown",
   "id": "0aed921b",
   "metadata": {},
   "source": [
    "# Installatie"
   ]
  },
  {
   "cell_type": "markdown",
   "id": "5f3de6ad",
   "metadata": {},
   "source": [
    "Run `pip3 install pandas` in the terminal to install the Pandas library."
   ]
  },
  {
   "cell_type": "markdown",
   "id": "a2952930",
   "metadata": {},
   "source": [
    "# Imports"
   ]
  },
  {
   "cell_type": "code",
   "execution_count": 1,
   "id": "ccc131b9",
   "metadata": {
    "tags": []
   },
   "outputs": [],
   "source": [
    "import pandas as pd\n",
    "\n",
    "import matplotlib.pyplot as plt"
   ]
  },
  {
   "cell_type": "markdown",
   "id": "52993ea0",
   "metadata": {},
   "source": [
    "# Schetsen"
   ]
  },
  {
   "cell_type": "code",
   "execution_count": 64,
   "id": "57c534fd",
   "metadata": {
    "tags": []
   },
   "outputs": [
    {
     "name": "stdout",
     "output_type": "stream",
     "text": [
      "                       Name  Age     Sex\n",
      "0   Braund, Mr. Owen Harris   22    male\n",
      "1  Allen, Mr. William Henry   35    male\n",
      "2  Bonnell, Miss. Elizabeth   58  female\n"
     ]
    }
   ],
   "source": [
    "# Dataframe maken\n",
    "df = pd.DataFrame(\n",
    "    {\n",
    "        \"Name\": [\n",
    "            \"Braund, Mr. Owen Harris\",\n",
    "            \"Allen, Mr. William Henry\",\n",
    "            \"Bonnell, Miss. Elizabeth\",\n",
    "        ],\n",
    "        \"Age\": [\n",
    "            22,\n",
    "            35,\n",
    "            58\n",
    "        ],\n",
    "        \"Sex\": [\n",
    "            \"male\",\n",
    "            \"male\",\n",
    "            \"female\"\n",
    "        ],\n",
    "    }\n",
    ")\n",
    "\n",
    "# Standaard print\n",
    "print(df)\n",
    "\n",
    "# Vergelijk met\n",
    "# display(df)\n",
    "\n",
    "# Lijkt op, maar anders dan\n",
    "# df\n",
    "# print(1)"
   ]
  },
  {
   "cell_type": "code",
   "execution_count": 5,
   "id": "2a8aee00",
   "metadata": {
    "tags": []
   },
   "outputs": [],
   "source": [
    "# Data opslaan\n",
    "df.to_csv(\"demo.csv\")"
   ]
  },
  {
   "cell_type": "code",
   "execution_count": 83,
   "id": "c98bde01",
   "metadata": {
    "tags": []
   },
   "outputs": [
    {
     "name": "stdout",
     "output_type": "stream",
     "text": [
      "                       Name  Age     Sex\n",
      "0   Braund, Mr. Owen Harris   22    male\n",
      "1  Allen, Mr. William Henry   35    male\n",
      "2  Bonnell, Miss. Elizabeth   58  female\n"
     ]
    }
   ],
   "source": [
    "# Data inlezen\n",
    "df2 = pd.read_csv(\"demo.csv\", index_col = 0)\n",
    "print(df2)"
   ]
  },
  {
   "cell_type": "code",
   "execution_count": 53,
   "id": "99887936",
   "metadata": {
    "tags": []
   },
   "outputs": [
    {
     "name": "stdout",
     "output_type": "stream",
     "text": [
      "Index(['Name', 'Age', 'Sex'], dtype='object')\n"
     ]
    }
   ],
   "source": [
    "# De kolomnaam\n",
    "print(df2.columns)"
   ]
  },
  {
   "cell_type": "code",
   "execution_count": 59,
   "id": "683e2d08",
   "metadata": {
    "tags": []
   },
   "outputs": [
    {
     "data": {
      "text/plain": [
       "0     Braund, Mr. Owen Harris\n",
       "1    Allen, Mr. William Henry\n",
       "2    Bonnell, Miss. Elizabeth\n",
       "3                David Jansen\n",
       "Name: Name, dtype: object"
      ]
     },
     "metadata": {},
     "output_type": "display_data"
    },
    {
     "data": {
      "text/plain": [
       "0    22\n",
       "1    35\n",
       "2    58\n",
       "3    30\n",
       "Name: Age, dtype: int64"
      ]
     },
     "metadata": {},
     "output_type": "display_data"
    },
    {
     "data": {
      "text/plain": [
       "0     Braund, Mr. Owen Harris\n",
       "1    Allen, Mr. William Henry\n",
       "2    Bonnell, Miss. Elizabeth\n",
       "3                David Jansen\n",
       "Name: Name, dtype: object"
      ]
     },
     "metadata": {},
     "output_type": "display_data"
    }
   ],
   "source": [
    "# Een kolom lezen\n",
    "display(df2['Name'])\n",
    "display(df2[df2.columns[1]])\n",
    "display(df2.Name)"
   ]
  },
  {
   "cell_type": "code",
   "execution_count": 65,
   "id": "62a8fd3b",
   "metadata": {
    "tags": []
   },
   "outputs": [
    {
     "name": "stdout",
     "output_type": "stream",
     "text": [
      "                       Name  Age\n",
      "0   Braund, Mr. Owen Harris   22\n",
      "1  Allen, Mr. William Henry   35\n",
      "2  Bonnell, Miss. Elizabeth   58\n"
     ]
    }
   ],
   "source": [
    "# Een kolom verwijderen\n",
    "# df2 = df2.drop('Sex', axis=1)\n",
    "df2.pop('Sex')\n",
    "print(df2)"
   ]
  },
  {
   "cell_type": "code",
   "execution_count": 72,
   "id": "61c6f8e4",
   "metadata": {
    "tags": []
   },
   "outputs": [
    {
     "name": "stdout",
     "output_type": "stream",
     "text": [
      "Name    Braund, Mr. Owen Harris\n",
      "Age                          22\n",
      "Name: 0, dtype: object\n",
      "Empty DataFrame\n",
      "Columns: [Name, Age]\n",
      "Index: []\n"
     ]
    }
   ],
   "source": [
    "# Een rij lezen\n",
    "print(df2.iloc[0])"
   ]
  },
  {
   "cell_type": "code",
   "execution_count": 32,
   "id": "51eabbb2",
   "metadata": {
    "tags": []
   },
   "outputs": [
    {
     "name": "stdout",
     "output_type": "stream",
     "text": [
      "Name    Allen, Mr. William Henry\n",
      "Age                           35\n",
      "Sex                         male\n",
      "Name: 1, dtype: object\n"
     ]
    }
   ],
   "source": [
    "# Functie getRow() maken\n",
    "def get_row(df, index):\n",
    "    return df.iloc[index]\n",
    "\n",
    "print(getRow(df2, 1))"
   ]
  },
  {
   "cell_type": "code",
   "execution_count": 84,
   "id": "6ef5de0c",
   "metadata": {
    "tags": []
   },
   "outputs": [
    {
     "data": {
      "text/html": [
       "<div>\n",
       "<style scoped>\n",
       "    .dataframe tbody tr th:only-of-type {\n",
       "        vertical-align: middle;\n",
       "    }\n",
       "\n",
       "    .dataframe tbody tr th {\n",
       "        vertical-align: top;\n",
       "    }\n",
       "\n",
       "    .dataframe thead th {\n",
       "        text-align: right;\n",
       "    }\n",
       "</style>\n",
       "<table border=\"1\" class=\"dataframe\">\n",
       "  <thead>\n",
       "    <tr style=\"text-align: right;\">\n",
       "      <th></th>\n",
       "      <th>Name</th>\n",
       "      <th>Age</th>\n",
       "      <th>Sex</th>\n",
       "    </tr>\n",
       "  </thead>\n",
       "  <tbody>\n",
       "    <tr>\n",
       "      <th>0</th>\n",
       "      <td>Braund, Mr. Owen Harris</td>\n",
       "      <td>22</td>\n",
       "      <td>male</td>\n",
       "    </tr>\n",
       "    <tr>\n",
       "      <th>1</th>\n",
       "      <td>Allen, Mr. William Henry</td>\n",
       "      <td>35</td>\n",
       "      <td>male</td>\n",
       "    </tr>\n",
       "    <tr>\n",
       "      <th>2</th>\n",
       "      <td>Bonnell, Miss. Elizabeth</td>\n",
       "      <td>58</td>\n",
       "      <td>female</td>\n",
       "    </tr>\n",
       "  </tbody>\n",
       "</table>\n",
       "</div>"
      ],
      "text/plain": [
       "                       Name  Age     Sex\n",
       "0   Braund, Mr. Owen Harris   22    male\n",
       "1  Allen, Mr. William Henry   35    male\n",
       "2  Bonnell, Miss. Elizabeth   58  female"
      ]
     },
     "metadata": {},
     "output_type": "display_data"
    }
   ],
   "source": [
    "# Een rij toevoegen\n",
    "df2.loc[len(df2.index)]= {\"Name\": \"David Jansen\", \"Age\": 30, \"Sex\": \"male\"}\n",
    "# En weer verwijderen\n",
    "df2 = df2.drop(len(df2.index)-1)\n",
    "display(df2)"
   ]
  },
  {
   "cell_type": "code",
   "execution_count": 133,
   "id": "dbc501e9",
   "metadata": {},
   "outputs": [],
   "source": [
    "# Functie insertAt(row, index)\n",
    "# ..."
   ]
  },
  {
   "cell_type": "code",
   "execution_count": 134,
   "id": "b21bab05",
   "metadata": {},
   "outputs": [],
   "source": [
    "# Verkennen\n",
    "# ..."
   ]
  },
  {
   "cell_type": "code",
   "execution_count": 97,
   "id": "56e17006",
   "metadata": {
    "tags": []
   },
   "outputs": [
    {
     "data": {
      "text/html": [
       "<div>\n",
       "<style scoped>\n",
       "    .dataframe tbody tr th:only-of-type {\n",
       "        vertical-align: middle;\n",
       "    }\n",
       "\n",
       "    .dataframe tbody tr th {\n",
       "        vertical-align: top;\n",
       "    }\n",
       "\n",
       "    .dataframe thead th {\n",
       "        text-align: right;\n",
       "    }\n",
       "</style>\n",
       "<table border=\"1\" class=\"dataframe\">\n",
       "  <thead>\n",
       "    <tr style=\"text-align: right;\">\n",
       "      <th></th>\n",
       "      <th>Name</th>\n",
       "      <th>Age</th>\n",
       "      <th>Sex</th>\n",
       "    </tr>\n",
       "  </thead>\n",
       "  <tbody>\n",
       "    <tr>\n",
       "      <th>1</th>\n",
       "      <td>Allen, Mr. William Henry</td>\n",
       "      <td>35</td>\n",
       "      <td>male</td>\n",
       "    </tr>\n",
       "  </tbody>\n",
       "</table>\n",
       "</div>"
      ],
      "text/plain": [
       "                       Name  Age   Sex\n",
       "1  Allen, Mr. William Henry   35  male"
      ]
     },
     "metadata": {},
     "output_type": "display_data"
    },
    {
     "data": {
      "text/html": [
       "<div>\n",
       "<style scoped>\n",
       "    .dataframe tbody tr th:only-of-type {\n",
       "        vertical-align: middle;\n",
       "    }\n",
       "\n",
       "    .dataframe tbody tr th {\n",
       "        vertical-align: top;\n",
       "    }\n",
       "\n",
       "    .dataframe thead th {\n",
       "        text-align: right;\n",
       "    }\n",
       "</style>\n",
       "<table border=\"1\" class=\"dataframe\">\n",
       "  <thead>\n",
       "    <tr style=\"text-align: right;\">\n",
       "      <th></th>\n",
       "      <th>Name</th>\n",
       "      <th>Age</th>\n",
       "      <th>Sex</th>\n",
       "    </tr>\n",
       "  </thead>\n",
       "  <tbody>\n",
       "    <tr>\n",
       "      <th>1</th>\n",
       "      <td>Allen, Mr. William Henry</td>\n",
       "      <td>35</td>\n",
       "      <td>male</td>\n",
       "    </tr>\n",
       "    <tr>\n",
       "      <th>2</th>\n",
       "      <td>Bonnell, Miss. Elizabeth</td>\n",
       "      <td>58</td>\n",
       "      <td>female</td>\n",
       "    </tr>\n",
       "  </tbody>\n",
       "</table>\n",
       "</div>"
      ],
      "text/plain": [
       "                       Name  Age     Sex\n",
       "1  Allen, Mr. William Henry   35    male\n",
       "2  Bonnell, Miss. Elizabeth   58  female"
      ]
     },
     "metadata": {},
     "output_type": "display_data"
    },
    {
     "data": {
      "text/html": [
       "<div>\n",
       "<style scoped>\n",
       "    .dataframe tbody tr th:only-of-type {\n",
       "        vertical-align: middle;\n",
       "    }\n",
       "\n",
       "    .dataframe tbody tr th {\n",
       "        vertical-align: top;\n",
       "    }\n",
       "\n",
       "    .dataframe thead th {\n",
       "        text-align: right;\n",
       "    }\n",
       "</style>\n",
       "<table border=\"1\" class=\"dataframe\">\n",
       "  <thead>\n",
       "    <tr style=\"text-align: right;\">\n",
       "      <th></th>\n",
       "      <th>Name</th>\n",
       "      <th>Age</th>\n",
       "      <th>Sex</th>\n",
       "    </tr>\n",
       "  </thead>\n",
       "  <tbody>\n",
       "    <tr>\n",
       "      <th>2</th>\n",
       "      <td>Bonnell, Miss. Elizabeth</td>\n",
       "      <td>58</td>\n",
       "      <td>female</td>\n",
       "    </tr>\n",
       "  </tbody>\n",
       "</table>\n",
       "</div>"
      ],
      "text/plain": [
       "                       Name  Age     Sex\n",
       "2  Bonnell, Miss. Elizabeth   58  female"
      ]
     },
     "metadata": {},
     "output_type": "display_data"
    },
    {
     "data": {
      "text/html": [
       "<div>\n",
       "<style scoped>\n",
       "    .dataframe tbody tr th:only-of-type {\n",
       "        vertical-align: middle;\n",
       "    }\n",
       "\n",
       "    .dataframe tbody tr th {\n",
       "        vertical-align: top;\n",
       "    }\n",
       "\n",
       "    .dataframe thead th {\n",
       "        text-align: right;\n",
       "    }\n",
       "</style>\n",
       "<table border=\"1\" class=\"dataframe\">\n",
       "  <thead>\n",
       "    <tr style=\"text-align: right;\">\n",
       "      <th></th>\n",
       "      <th>Name</th>\n",
       "      <th>Age</th>\n",
       "      <th>Sex</th>\n",
       "    </tr>\n",
       "  </thead>\n",
       "  <tbody>\n",
       "    <tr>\n",
       "      <th>0</th>\n",
       "      <td>Braund, Mr. Owen Harris</td>\n",
       "      <td>22</td>\n",
       "      <td>male</td>\n",
       "    </tr>\n",
       "    <tr>\n",
       "      <th>2</th>\n",
       "      <td>Bonnell, Miss. Elizabeth</td>\n",
       "      <td>58</td>\n",
       "      <td>female</td>\n",
       "    </tr>\n",
       "  </tbody>\n",
       "</table>\n",
       "</div>"
      ],
      "text/plain": [
       "                       Name  Age     Sex\n",
       "0   Braund, Mr. Owen Harris   22    male\n",
       "2  Bonnell, Miss. Elizabeth   58  female"
      ]
     },
     "metadata": {},
     "output_type": "display_data"
    }
   ],
   "source": [
    "# Filteren\n",
    "display(df2.query(\"Age > 30 and Sex == 'male'\"))\n",
    "display(df2[df2['Age'] > 30])\n",
    "display(df2[df2['Name'].str.find('Eliz') != -1])\n",
    "display(df2[df2['Name'].str.contains('B')])"
   ]
  },
  {
   "cell_type": "code",
   "execution_count": 136,
   "id": "39cd6d20",
   "metadata": {},
   "outputs": [],
   "source": [
    "# Groeperen\n",
    "# ..."
   ]
  },
  {
   "cell_type": "code",
   "execution_count": 69,
   "id": "5158b0b6",
   "metadata": {
    "tags": []
   },
   "outputs": [
    {
     "name": "stdout",
     "output_type": "stream",
     "text": [
      "6\n",
      "[1, 2]\n"
     ]
    }
   ],
   "source": [
    "# Extra: toepassing OOP en het bouwen van je eigen library\n"
   ]
  },
  {
   "cell_type": "code",
   "execution_count": null,
   "id": "7777a3ad-040d-42bc-a09c-947f4755e5c9",
   "metadata": {},
   "outputs": [],
   "source": []
  }
 ],
 "metadata": {
  "kernelspec": {
   "display_name": "Python 3 (ipykernel)",
   "language": "python",
   "name": "python3"
  },
  "language_info": {
   "codemirror_mode": {
    "name": "ipython",
    "version": 3
   },
   "file_extension": ".py",
   "mimetype": "text/x-python",
   "name": "python",
   "nbconvert_exporter": "python",
   "pygments_lexer": "ipython3",
   "version": "3.10.10"
  }
 },
 "nbformat": 4,
 "nbformat_minor": 5
}
