{
 "cells": [
  {
   "cell_type": "markdown",
   "id": "ce776e9e-e316-4a03-ad68-d9e0a090b894",
   "metadata": {},
   "source": [
    "https://raw.githubusercontent.com/MitwRdam/MakeAIWork/main/practica/week3/sql/notebook/sql.ipynb<div>\n",
    "    <img src='../pics/banner.PNG'/>\n",
    "</div>\n",
    "<div>\n",
    "    <img width=\"10%\" height=\"10%\" src='../pics/python-programming.png'/>\n",
    "    <img src='../pics/miw.PNG'/>\n",
    "</div>\n",
    "<div>\n",
    "    <em>Author: Jeroen Boogaard</em>\n",
    "</div>"
   ]
  },
  {
   "cell_type": "markdown",
   "id": "b57ce072-c647-44a4-8078-07045ee55df9",
   "metadata": {},
   "source": [
    "<h1>Practicum SQL </h1>"
   ]
  },
  {
   "cell_type": "markdown",
   "id": "9f080c20-09e7-415e-b4b8-91b340464972",
   "metadata": {},
   "source": [
    "<h2>Imports<h2>"
   ]
  },
  {
   "cell_type": "code",
   "execution_count": 1,
   "id": "91986813",
   "metadata": {
    "tags": []
   },
   "outputs": [
    {
     "data": {
      "text/plain": [
       "1"
      ]
     },
     "execution_count": 1,
     "metadata": {},
     "output_type": "execute_result"
    }
   ],
   "source": [
    "from os import system as sys\n",
    "sys('pip install pysqlite3 --upgrade pip')"
   ]
  },
  {
   "cell_type": "code",
   "execution_count": 2,
   "id": "fc9cc22c-9b16-4f97-be97-65fa68a4f5b6",
   "metadata": {
    "tags": []
   },
   "outputs": [],
   "source": [
    "from matplotlib import pyplot as plt\n",
    "from matplotlib_venn import venn2, venn3\n",
    "from PIL import Image\n",
    "import pandas as pd\n",
    "import sqlite3"
   ]
  },
  {
   "cell_type": "markdown",
   "id": "206be2e2-1646-4b41-bc5d-e23ca9ce2199",
   "metadata": {},
   "source": [
    "<h2>Extract, Transform and Load</h2>"
   ]
  },
  {
   "cell_type": "markdown",
   "id": "27681fa7-135e-4301-9eb3-b0d945ca7f45",
   "metadata": {},
   "source": [
    "<h3>Extract</h3>"
   ]
  },
  {
   "cell_type": "code",
   "execution_count": 10,
   "id": "3dc0221e-2539-46d5-9b46-f5031b987547",
   "metadata": {
    "tags": []
   },
   "outputs": [
    {
     "name": "stdout",
     "output_type": "stream",
     "text": [
      "   zoom     name abbreviation Code  ISO numeric  land area km  population  \\\n",
      "0     3  Ukraine         Ukr.  UKR          804      603700.0    45415596   \n",
      "1     3   France          Fr.  FRA          250      547030.0    64768389   \n",
      "2     3    Spain        Spain  ESP          724      504782.0    46505963   \n",
      "3     3   Sweden         Swe.  SWE          752      449964.0     9045000   \n",
      "4     3  Germany         Ger.  DEU          276      357021.0    82369000   \n",
      "\n",
      "   latitude  longitude continent  \n",
      "0      49.0       32.0        eu  \n",
      "1      46.0        2.0        eu  \n",
      "2      40.0       -4.0        eu  \n",
      "3      62.0       15.0        eu  \n",
      "4      51.5       10.5        eu  \n"
     ]
    }
   ],
   "source": [
    "# https://raw.githubusercontent.com/ajturner/acetate/master/places/Countries-Europe.csv\n",
    "eurCsvFile = \"../csv/countries_europe.csv\"\n",
    "euCsvFile = \"../csv/european_union.csv\"\n",
    "\n",
    " # Create Pandas DataFrames\n",
    "europeDF = pd.read_csv(eurCsvFile)\n",
    "euDF = pd.read_csv(euCsvFile)\n",
    "print(europeDF.head())\n",
    "# print(euDF)"
   ]
  },
  {
   "cell_type": "markdown",
   "id": "620dd73e-33e6-42b4-89aa-c80a12833ad1",
   "metadata": {},
   "source": [
    "<h3>Transform</h3>"
   ]
  },
  {
   "cell_type": "markdown",
   "id": "184e4908-ac20-4417-8a04-60d0a2a80f44",
   "metadata": {},
   "source": [
    "<h3>Exercise 1</h3>\n",
    "<h4>Gegeven</h4>"
   ]
  },
  {
   "cell_type": "code",
   "execution_count": 8,
   "id": "649e4d4f-bcf5-40ad-9f58-55a1481b9d8d",
   "metadata": {
    "tags": []
   },
   "outputs": [],
   "source": [
    "benelux = {\"Belgium\", \"Netherlands\", \"Luxembourg\"}\n",
    "nordics = {\"Denmark\", \"Finland\", \"Iceland\", \"Norway\"}\n",
    "baltics = {\"Estonia\", \"Latvia\", \"Lithuania\"}"
   ]
  },
  {
   "cell_type": "markdown",
   "id": "cefd609d-415b-40ce-9aa8-56cf98e386ab",
   "metadata": {},
   "source": [
    "<h4>Gevraagd</h4>\n",
    "<ol>\n",
    "    <li>Voeg de kolom <u>group</u> toe aan de dataset <u>europeDF</u> met daarin de groep waartoe een land behoort volgens bovenstaande sets</li>\n",
    "    <li>Ga na of er nog meer landengroepen zijn binnen Europa en voeg die ook toe</li>\n",
    "    <li>Sla deze verrijkte dataset op in een nieuw CSV bestand</li>\n",
    "</ol>"
   ]
  },
  {
   "cell_type": "markdown",
   "id": "950cd16a-4697-4e10-9a29-34e54145de68",
   "metadata": {},
   "source": [
    "<h4>Oplossing</h4>"
   ]
  },
  {
   "cell_type": "code",
   "execution_count": 21,
   "id": "53b02739-f585-4a33-b4b0-dcf06bf6a1c9",
   "metadata": {
    "tags": []
   },
   "outputs": [],
   "source": [
    "# Oplossing\n",
    "# WERKT NIET\n",
    "# if europeDF['name'] in benelux:\n",
    "#     europeDF['Group'] = 'benelux'\n",
    "# elif europeDF['name'] in nordics:\n",
    "#     europeDF['Group'] = 'nordics'\n",
    "# elif europeDF['name'] in baltics:\n",
    "#     europeDF['Group'] = 'baltics'\n",
    "# else:\n",
    "#     europeDF['Group'] = 'N.a.'\n",
    "# WERKT OOK NIET\n",
    "# europeDF['name'] = europeDF['Group'].map({in benelux: 'benelux', in nordics: 'nordics', in baltics: 'baltics'})\n",
    "\n",
    "europeDF.loc[europeDF['name'].isin(benelux), 'group'] = 'benelux'\n",
    "europeDF.loc[europeDF['name'].isin(baltics), 'group'] = 'nordics'\n",
    "europeDF.loc[europeDF['name'].isin(nordics), 'group'] = 'baltics'\n",
    "\n",
    "\n",
    "# print(europeDF)"
   ]
  },
  {
   "cell_type": "markdown",
   "id": "3915f0da-d771-4470-93e7-8b0337b472af",
   "metadata": {},
   "source": [
    "<h3>Load</h3>"
   ]
  },
  {
   "cell_type": "markdown",
   "id": "c50ff7d2-c034-43fd-b19d-24a3f4d1513f",
   "metadata": {},
   "source": [
    "<p>Maak een lege database</p>"
   ]
  },
  {
   "cell_type": "code",
   "execution_count": 22,
   "id": "a2d3575c-af21-4bb5-8585-6da463a42fdf",
   "metadata": {
    "tags": []
   },
   "outputs": [
    {
     "data": {
      "text/plain": [
       "1"
      ]
     },
     "execution_count": 22,
     "metadata": {},
     "output_type": "execute_result"
    }
   ],
   "source": [
    "sys('sqlite3 db/europe.db \"VACUUM;\"')"
   ]
  },
  {
   "cell_type": "code",
   "execution_count": 27,
   "id": "2e63c59f-e85b-41c7-87a5-b1973ffa5652",
   "metadata": {
    "tags": []
   },
   "outputs": [],
   "source": [
    "# Connect to SQLite database\n",
    "dbConnection = sqlite3.connect('../db/europe.db')"
   ]
  },
  {
   "cell_type": "markdown",
   "id": "a851f75c-1b37-4bec-9f92-146f45457533",
   "metadata": {},
   "source": [
    "<p>Maak tabellen o.b.v. de dataset</p>"
   ]
  },
  {
   "cell_type": "code",
   "execution_count": 25,
   "id": "0372fa16-5ba5-4aac-874f-67566b093721",
   "metadata": {
    "tags": []
   },
   "outputs": [
    {
     "data": {
      "text/plain": [
       "27"
      ]
     },
     "execution_count": 25,
     "metadata": {},
     "output_type": "execute_result"
    }
   ],
   "source": [
    "europeDF.to_sql('countries', dbConnection, if_exists='replace', index = False)\n",
    "euDF.to_sql('eu', dbConnection, if_exists='replace', index = False)"
   ]
  },
  {
   "cell_type": "code",
   "execution_count": 28,
   "id": "5e61d66c-78ec-4798-87ec-16a553d286ae",
   "metadata": {
    "tags": []
   },
   "outputs": [
    {
     "name": "stdout",
     "output_type": "stream",
     "text": [
      "[(3, 'France', 'Fr.', 'FRA', 250, 547030.0, 64768389, 46.0, 2.0, 'eu', None, 'FRA', 'France', '1958-01-01'), (3, 'Spain', 'Spain', 'ESP', 724, 504782.0, 46505963, 40.0, -4.0, 'eu', None, 'ESP', 'Spain', '1986-01-01'), (3, 'Sweden', 'Swe.', 'SWE', 752, 449964.0, 9045000, 62.0, 15.0, 'eu', None, 'SWE', 'Sweden', '1995-01-01'), (3, 'Germany', 'Ger.', 'DEU', 276, 357021.0, 82369000, 51.5, 10.5, 'eu', None, 'DEU', 'Germany', '1958-01-01'), (3, 'Finland', 'Fin.', 'FIN', 246, 337030.0, 5244000, 64.0, 26.0, 'eu', 'baltics', 'FIN', 'Finland', '1995-01-01'), (3, 'Poland', 'Pol.', 'POL', 616, 312685.0, 38500000, 52.0, 20.0, 'eu', None, 'POL', 'Poland', '2004-05-01'), (3, 'Italy', 'Italy', 'ITA', 380, 301230.0, 58145000, 42.83, 12.83, 'eu', None, 'ITA', 'Italy', '1958-01-01'), (3, 'Romania', 'Rom.', 'ROU', 642, 237500.0, 21959278, 46.0, 25.0, 'eu', None, 'ROU', 'Romania', '2007-01-01'), (3, 'Greece', 'Grc.', 'GRC', 300, 131940.0, 11000000, 39.0, 22.0, 'eu', None, 'GRC', 'Greece', '1981-01-01'), (3, 'Bulgaria', 'Blg.', 'BGR', 100, 110910.0, 7148785, 43.0, 25.0, 'eu', None, 'BGR', 'Bulgaria', '2007-01-01'), (3, 'Portugal', 'Port.', 'PRT', 620, 92391.0, 10676000, 39.5, -8.0, 'eu', None, 'PRT', 'Portugal', '1986-01-01'), (3, 'Czech Republic', 'Czech Rep.', 'CZE', 203, 78866.0, 10476000, 49.75, 15.0, 'eu', None, 'CZE', 'Czechia', '2004-05-01'), (3, 'Denmark', 'Den.', 'DNK', 208, 43094.0, 5484000, 56.0, 10.0, 'eu', 'baltics', 'DNK', 'Denmark', '1973-01-01'), (4, 'Hungary', 'Hung.', 'HUN', 348, 93030.0, 9930000, 47.0, 20.0, 'eu', None, 'HUN', 'Hungary', '2004-05-01'), (4, 'Austria', 'Aus.', 'AUT', 40, 83858.0, 8205000, 47.33, 13.33, 'eu', None, 'AUT', 'Austria', '1995-01-01'), (4, 'Ireland', 'Ire.', 'IRL', 372, 70280.0, 4622917, 53.0, -8.0, 'eu', None, 'IRL', 'Ireland', '1973-01-01'), (4, 'Lithuania', 'Lith.', 'LTU', 440, 65200.0, 3565000, 56.0, 24.0, 'eu', 'nordics', 'LTU', 'Lithuania', '2004-05-01'), (4, 'Latvia', 'Lat.', 'LVA', 428, 64589.0, 2217969, 57.0, 25.0, 'eu', 'nordics', 'LVA', 'Latvia', '2004-05-01'), (4, 'Croatia', 'Cro.', 'HRV', 191, 56542.0, 4491000, 45.17, 15.5, 'eu', None, 'HRV', 'Croatia', '2013-07-01'), (4, 'Slovakia', 'Slvk.', 'SVK', 703, 48845.0, 5455000, 48.67, 19.5, 'eu', None, 'SVK', 'Slovakia', '2004-05-01'), (4, 'Estonia', 'Est.', 'EST', 233, 45226.0, 1291170, 59.0, 26.0, 'eu', 'nordics', 'EST', 'Estonia', '2004-05-01'), (4, 'Netherlands', 'Neth.', 'NLD', 528, 41526.0, 16645000, 52.5, 5.75, 'eu', 'benelux', 'NLD', 'Netherlands', '1958-01-01'), (4, 'Belgium', 'Bel.', 'BEL', 56, 30510.0, 10403000, 50.83, 4.0, 'eu', 'benelux', 'BEL', 'Belgium', '1958-01-01'), (4, 'Slovenia', 'Slvn.', 'SVN', 705, 20273.0, 2007000, 46.25, 15.17, 'eu', None, 'SVN', 'Slovenia', '2004-05-01'), (4, 'Cyprus', 'Cyp.', 'CYP', 196, 9250.0, 1102677, 35.0, 33.0, 'asia', None, 'CYP', 'Cyprus', '2004-05-01'), (4, 'Luxembourg', 'Lux.', 'LUX', 442, 2586.0, 497538, 49.75, 6.17, 'eu', 'benelux', 'LUX', 'Luxembourg', '1958-01-01'), (4, 'Malta', 'Malta', 'MLT', 470, 316.0, 403000, 35.92, 14.43, 'eu', None, 'MLT', 'Malta', '2004-05-01')]\n",
      "<class 'list'>\n"
     ]
    }
   ],
   "source": [
    "dbCursor = dbConnection.cursor()\n",
    "\n",
    "query = \"\"\"\n",
    "    SELECT *\n",
    "    FROM countries\n",
    "    INNER JOIN eu\n",
    "    ON countries.Code = eu.Code\n",
    "\"\"\"\n",
    "\n",
    "result = dbCursor.execute(query).fetchall()\n",
    "print(result)\n",
    "print(type(result))"
   ]
  },
  {
   "cell_type": "code",
   "execution_count": 29,
   "id": "bc044c71-ee05-45b2-b200-9a06a98ed6dd",
   "metadata": {
    "tags": []
   },
   "outputs": [
    {
     "name": "stdout",
     "output_type": "stream",
     "text": [
      "[('UKR',), ('FRA',), ('ESP',), ('SWE',), ('DEU',), ('FIN',), ('NOR',), ('POL',), ('ITA',), ('GBR',), ('ROU',), ('BLR',), ('GRC',), ('BGR',), ('ISL',), ('PRT',), ('CZE',), ('DNK',), ('HUN',), ('SRB',), ('AUT',), ('IRL',), ('LTU',), ('LVA',), ('HRV',), ('BIH',), ('SVK',), ('EST',), ('NLD',), ('CHE',), ('MDA',), ('BEL',), ('ALB',), ('MKD',), ('SVN',), ('MNE',), ('CYP',), ('LUX',), ('FRO',), ('AND',), ('MLT',), ('LIE',), ('GGY',), ('SMR',), ('GIB',), ('MCO',), ('VAT',)]\n",
      "<class 'list'>\n"
     ]
    }
   ],
   "source": [
    "query = \"\"\"\n",
    "    SELECT Code\n",
    "    FROM countries\n",
    "\"\"\"\n",
    "\n",
    "result = dbCursor.execute(query).fetchall()\n",
    "print(result)\n",
    "print(type(result))"
   ]
  },
  {
   "cell_type": "markdown",
   "id": "2a6640a3-38f5-4561-a6f1-3a4b26e2f39c",
   "metadata": {},
   "source": [
    "<h3>Exercise 2</h3>\n",
    "<p>\n",
    "    Gebruik SQL queries voor het verkrijgen van\n",
    "<ol>\n",
    "    <li>het aantal landen dat onderdeel is van de Nordics</li>\n",
    "    <li>het aantal Europese landen dat lid is van de Europese Unie</li>\n",
    "    <li>het aantal EU-landen dat deel uitmaakt van de Norics</li>\n",
    "</ol>\n",
    "</p>"
   ]
  },
  {
   "cell_type": "code",
   "execution_count": null,
   "id": "aec10894-9e98-442b-af1f-baea1148190f",
   "metadata": {},
   "outputs": [],
   "source": [
    "# 1\n",
    "query = \"\"\"\n",
    "    SELECT c.name, count(countries) as 'Part of Nordics'\n",
    "    FROM countries as c\n",
    "    GROUP BY \n",
    "\"\"\"\n",
    "\n",
    "result = dbCursor.execute(query).fetchall()\n",
    "print(result)"
   ]
  },
  {
   "cell_type": "code",
   "execution_count": null,
   "id": "f57f3aef-7b89-4d09-a064-c63c777bebcf",
   "metadata": {},
   "outputs": [],
   "source": [
    "# Close connection to SQLite database\n",
    "dbConnection.close()"
   ]
  }
 ],
 "metadata": {
  "kernelspec": {
   "display_name": "Python 3 (ipykernel)",
   "language": "python",
   "name": "python3"
  },
  "language_info": {
   "codemirror_mode": {
    "name": "ipython",
    "version": 3
   },
   "file_extension": ".py",
   "mimetype": "text/x-python",
   "name": "python",
   "nbconvert_exporter": "python",
   "pygments_lexer": "ipython3",
   "version": "3.10.10"
  },
  "vscode": {
   "interpreter": {
    "hash": "9d3afc9f718536a562acca7e4195db7e432105a6a5bfa793add3486ed553a0c5"
   }
  }
 },
 "nbformat": 4,
 "nbformat_minor": 5
}
