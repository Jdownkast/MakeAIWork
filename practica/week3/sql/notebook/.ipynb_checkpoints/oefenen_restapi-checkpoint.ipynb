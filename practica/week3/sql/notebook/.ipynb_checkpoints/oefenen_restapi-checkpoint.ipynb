{
 "cells": [
  {
   "cell_type": "code",
   "execution_count": null,
   "id": "b777f000-48a5-4fd7-bec0-917dde2b9954",
   "metadata": {},
   "outputs": [],
   "source": [
    "import http.client\n",
    "import pandas as pd\n",
    "\n",
    "year = 2022\n",
    "conn = http.client.HTTPSConnection(\"ergast.com\")\n",
    "\n",
    "headersList = {\n",
    "    \"Accept\": \"*/*\",\n",
    "    \"User-Agent\": \"Thunder Client (https://www.thunderclient.com)\",\n",
    "}\n",
    "\n",
    "payload = \"\"\n",
    "\n",
    "conn.request(\"GET\", f\"/api/f1/{year}/driverStandings.json\", payload, headersList)\n",
    "response = conn.getresponse()\n",
    "result = response.read()\n",
    "\n",
    "result = result.decode(\"utf-8\")\n",
    "\n",
    "df = pd.read_json(result)\n",
    "# df = pd.json_normalize(result, record_path=\"StandingsTable\")\n",
    "print(df)\n"
   ]
  }
 ],
 "metadata": {
  "kernelspec": {
   "display_name": "Python 3 (ipykernel)",
   "language": "python",
   "name": "python3"
  },
  "language_info": {
   "codemirror_mode": {
    "name": "ipython",
    "version": 3
   },
   "file_extension": ".py",
   "mimetype": "text/x-python",
   "name": "python",
   "nbconvert_exporter": "python",
   "pygments_lexer": "ipython3",
   "version": "3.10.10"
  }
 },
 "nbformat": 4,
 "nbformat_minor": 5
}
