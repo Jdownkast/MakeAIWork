{
 "cells": [
  {
   "cell_type": "markdown",
   "id": "38eca988-8834-4688-82cd-fb20ce9e8fee",
   "metadata": {},
   "source": [
    "### This noteboke describes the shell-scripts used for the build-pipeline"
   ]
  },
  {
   "cell_type": "markdown",
   "id": "76c94a81-df02-4993-8e00-db51c79129d4",
   "metadata": {},
   "source": [
    "The code below first sets the base-directory to the directory where all code for the build can be found. This would mean that the paths should work on every laptop. Then it calls build_pipeline to start the building proces."
   ]
  },
  {
   "cell_type": "raw",
   "id": "01642452-9355-493f-8ab5-34cb98080bef",
   "metadata": {},
   "source": [
    "#!/usr/bin/env bash\n",
    "\n",
    "# Change directory to directory where file is located\n",
    "BASEDIR=$(dirname \"$0\")\n",
    "cd $BASEDIR\n",
    "\n",
    "# Goto and source the build-pipeline\n",
    "cd ./build/code/sh\n",
    "source build_pipeline.sh"
   ]
  },
  {
   "cell_type": "markdown",
   "id": "ca87ebd6-1093-4d13-8861-b623673a0d9c",
   "metadata": {},
   "source": [
    "Firstly, the database is started and downloaded (see also, notebook 'database')"
   ]
  },
  {
   "cell_type": "raw",
   "id": "454b122f-e433-4564-b560-244f38b785cf",
   "metadata": {},
   "source": [
    "#!/usr/bin/env bash\n",
    "\n",
    "# Start and close server to download data\n",
    "source dload_db.sh\n",
    "\n",
    "# Transform dataset and train model\n",
    "cd ./code/python\n",
    "\n",
    "python tform_ds.py\n",
    "python train_model.py"
   ]
  }
 ],
 "metadata": {
  "kernelspec": {
   "display_name": "Python 3 (ipykernel)",
   "language": "python",
   "name": "python3"
  },
  "language_info": {
   "codemirror_mode": {
    "name": "ipython",
    "version": 3
   },
   "file_extension": ".py",
   "mimetype": "text/x-python",
   "name": "python",
   "nbconvert_exporter": "python",
   "pygments_lexer": "ipython3",
   "version": "3.10.10"
  }
 },
 "nbformat": 4,
 "nbformat_minor": 5
}
