{
 "cells": [
  {
   "cell_type": "markdown",
   "id": "09cd07fe-20e2-4f91-a0ef-cd6beb1abeeb",
   "metadata": {},
   "source": [
    "### This noteboke describes the shell-scripts used to run the application"
   ]
  },
  {
   "cell_type": "markdown",
   "id": "69d7f3b8-219b-4867-b37c-fe0bbab15943",
   "metadata": {},
   "source": [
    "Firstly, again, we establish the base directory so every path redirection is relative. Then we source 'start app' and start a countdown clock (10-minutes) to close the server afterwards."
   ]
  },
  {
   "cell_type": "markdown",
   "id": "216f4703-a152-4bf9-872f-0f71ff754bb2",
   "metadata": {},
   "source": [
    "#!/usr/bin/env bash\n",
    "\n",
    "# Change directory to directory where file is located\n",
    "BASEDIR=$(dirname \"$0\")\n",
    "# cd $BASEDIR\n",
    "cd ~/MakeAIWork/projects/project_1/project_1_def\n",
    "\n",
    "# Start application (flask development server)\n",
    "cd ./app\n",
    "source start_app.sh\n",
    "\n",
    "# Go back to original path\n",
    "cd ..\n",
    "\n",
    "# Keep server alive for period of time\n",
    "ALIVEMIN=10 # Minutes before server times out\n",
    "COUNTER=0\n",
    "\n",
    "while [[ $ALIVEMIN > $COUNTER ]]\n",
    "do\n",
    "    echo \"Server will time out in $(($ALIVEMIN-$COUNTER)) minutes\"\n",
    "    sleep 60\n",
    "    COUNTER=$((COUNTER + 1))\n",
    "done"
   ]
  },
  {
   "cell_type": "markdown",
   "id": "85886c1d-147d-4029-a868-7da935b0a290",
   "metadata": {},
   "source": [
    "**Start app**<br>\n",
    "This script does two things: 1. start a flask develop server with for the 'application.py' script (see Notebook 'application'), and 2. it opens the browser on the server-location. \n",
    "\n",
    "Running the flask server gave back some unwanted output lines. With the code \">/dev/...\" we catch that output and send them to a (non-existing) developer log, which essentially means the output gets 'thrown away'."
   ]
  },
  {
   "cell_type": "markdown",
   "id": "2a7f35d8-978c-4b3f-8715-9a323329590c",
   "metadata": {},
   "source": [
    "#!/usr/bin/env bash\n",
    "\n",
    "flask --app application --debug run  >/dev/null 2>/dev/null & \n",
    "\n",
    "URL=\"http://127.0.0.1:5000\"\n",
    "python -m webbrowser -t $URL "
   ]
  }
 ],
 "metadata": {
  "kernelspec": {
   "display_name": "Python 3 (ipykernel)",
   "language": "python",
   "name": "python3"
  },
  "language_info": {
   "codemirror_mode": {
    "name": "ipython",
    "version": 3
   },
   "file_extension": ".py",
   "mimetype": "text/x-python",
   "name": "python",
   "nbconvert_exporter": "python",
   "pygments_lexer": "ipython3",
   "version": "3.10.10"
  }
 },
 "nbformat": 4,
 "nbformat_minor": 5
}
