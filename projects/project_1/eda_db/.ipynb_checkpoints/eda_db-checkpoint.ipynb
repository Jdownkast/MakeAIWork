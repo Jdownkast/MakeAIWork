{
 "cells": [
  {
   "cell_type": "markdown",
   "id": "9cb00e8d-dbcb-4185-abc4-804c891e0bcc",
   "metadata": {},
   "source": [
    "# This notebook describes the proces of exploring and manipulating the data"
   ]
  },
  {
   "cell_type": "markdown",
   "id": "c0bddd96-460c-483a-9465-21bbf6eabdf2",
   "metadata": {},
   "source": [
    "For review purpose, there is an option to run or not run specific lines of code. Use run_all to run all script.<br>\n",
    "*To review all 'correct' output of this notebook, 'run_all' should be True. Then rerun all code via 'Kernel>Restart Kernel and Run All Code'.*"
   ]
  },
  {
   "cell_type": "code",
   "execution_count": 8,
   "id": "062e6c30-f581-45bc-94ab-ea9a86462046",
   "metadata": {
    "tags": []
   },
   "outputs": [],
   "source": [
    "run_all = False"
   ]
  },
  {
   "cell_type": "markdown",
   "id": "cf7bb4d0-3c5f-4ff0-b917-ee2b96a1c78e",
   "metadata": {},
   "source": [
    "**Imports**"
   ]
  },
  {
   "cell_type": "code",
   "execution_count": 2,
   "id": "affebb51-e2a8-4eaa-852c-5496e4567ccc",
   "metadata": {
    "tags": []
   },
   "outputs": [],
   "source": [
    "import pandas as pd\n",
    "import math\n",
    "import matplotlib.pyplot as plt\n",
    "import statsmodels.api as sm"
   ]
  },
  {
   "cell_type": "markdown",
   "id": "eef5e62c-9b8b-4254-a052-4f0f3cb6ad79",
   "metadata": {},
   "source": [
    "**Load db into DataFrame**"
   ]
  },
  {
   "cell_type": "code",
   "execution_count": 3,
   "id": "51bcb9e5-f713-45e6-9e2c-a976d6990318",
   "metadata": {},
   "outputs": [],
   "source": [
    "# df = pd.read_csv(\"../dload_db/csv/db_mcr.csv\")\n",
    "# Temporary static file, until we can use Django-server\n",
    "df = pd.read_csv(\"../dload_db/csv/static_db_mcr.csv\")"
   ]
  },
  {
   "cell_type": "markdown",
   "id": "77835ed2-4ff7-4aa6-9194-c83ddbe8e5ed",
   "metadata": {
    "tags": []
   },
   "source": [
    "## Exploring and transforming the data\n",
    "This database represents subjects (persons) with a certain lifestyle and projected lifespan. Ultimately, this data is used to predict lifespan based on the other variables.\n",
    "\n",
    "First, we answer some basic questions in order to prepare the data for exploration. E.g. what kind of data are we working with, do we understand the variabels (columns), is the data making sense for each variable, are we missing data etc. From there, we start exploring the data deeper."
   ]
  },
  {
   "cell_type": "markdown",
   "id": "b74a7d4f-91ae-4b3a-96d8-6029bfda35b1",
   "metadata": {},
   "source": [
    "### Preparing the database\n",
    "Our first look at the data."
   ]
  },
  {
   "cell_type": "code",
   "execution_count": 9,
   "id": "e8d430d6-de5e-4153-b8e7-1481dfed7e4f",
   "metadata": {
    "tags": []
   },
   "outputs": [],
   "source": [
    "run = False\n",
    "\n",
    "if run or run_all:\n",
    "    # Headers (variables), dtypes and shape\n",
    "    print(\"Headers (variables):\", [variable for variable in df.columns])\n",
    "    print(\"Datatypes:\", [dtype for dtype in df.dtypes])\n",
    "    print(\"Rows: \", df.shape[0], \"; Cols: \", df.shape[1], sep=\"\")\n",
    "    print(\"\") # Create enter after information\n",
    "    \n",
    "    # Same can be done via .info()\n",
    "    print(df.info())\n",
    "    print(\"\") # Create enter after information\n",
    "\n",
    "    # Display head()\n",
    "    display(df.head())"
   ]
  },
  {
   "cell_type": "markdown",
   "id": "341fc62d-a6a1-4915-abfb-cfb47a499afa",
   "metadata": {},
   "source": [
    "**Interpretation**<br>\n",
    "Firstly we see that there are 8 variables. Of these 1 is a dependent variable (lifespan) and 7 are independent variables. \n",
    "\n",
    "These variables are describes as:<br>\n",
    "***genetic:** the expected lifespan in years based genetic factors, independent on lifestyle<br>\n",
    "**lenght:** lenght in cm<br>\n",
    "**mass:** weight (mass) in kg<br>\n",
    "**exercise:** (average) daily hours of exercise<br>\n",
    "**smoking:** (average) daily number of sigarettes<br>\n",
    "**alcohol:** (average) daily number of glasses alcohol<br>\n",
    "**suger:** (average) daily cubes of sugar (4 gramms)<br>\n",
    "**lifespan (dependant):** projected lifespan in years, dependent on lifestyle<br>*\n",
    "\n",
    "Based on the descriptions, we can deduce that all variables are numbers, mostly floats but also possibly ints (lenght?). All variables should be positive numbers and depending on the variable have a certain logical range. \n",
    "\n",
    "We see in '.info()' that some variables have dtype 'object' which is equivalent to 'string'. We need to find out why and whether we need to manipulate the data. Also, we see that there are no 'Null' or empty datapoints from comparing the index (shape) with the non-null count. However, there might be datapoints that have other annotations to indicate data is missing (e.g. \"NaN\") or other non-numerical data."
   ]
  },
  {
   "cell_type": "markdown",
   "id": "0c9ec0e9-5c67-4a97-a914-aa093daf6795",
   "metadata": {},
   "source": [
    "#### Check for non numerical data\n",
    "Start with listing all indices that have non numerical data. Respecify the dtype as either int() or float(). For all non-complient data, list the (unique) indices (in a set) and decide what to do with them."
   ]
  },
  {
   "cell_type": "code",
   "execution_count": 5,
   "id": "1c186737-45b4-4b05-b4a6-7827b7076611",
   "metadata": {
    "tags": []
   },
   "outputs": [
    {
     "name": "stdout",
     "output_type": "stream",
     "text": [
      "There are 10 instances with missing data: {2721, 3043, 1861, 3398, 2793, 1038, 2576, 2354, 947, 4027}\n",
      "Datatypes: [dtype('float64'), dtype('int64'), dtype('float64'), dtype('float64'), dtype('float64'), dtype('float64'), dtype('float64'), dtype('float64')]\n"
     ]
    }
   ],
   "source": [
    "run = False\n",
    "\n",
    "if run or run_all:\n",
    "    # List indices of all non numerical entries\n",
    "    list_non_num = []\n",
    "    for variable in df.columns:\n",
    "        # Try to change all values to numeric, for cases this does not work, enter 'Null'. Cast in list.\n",
    "        list_non_num = list_non_num + df.index[~pd.to_numeric(df[variable], errors=\"coerce\").notnull()].tolist()\n",
    "\n",
    "    set_non_num = set(list_non_num)\n",
    "    print(\"There are \", len(set_non_num), \" instances with missing data: \", set_non_num, sep=\"\")\n",
    "\n",
    "    # Remove incomplete/missing data from dataset\n",
    "    df = df.loc[~df.index.isin(set_non_num)]\n",
    "\n",
    "    # Then we convert the object-type variables to numeric and check.\n",
    "    for variable in df.columns:\n",
    "        df[variable] = pd.to_numeric(df[variable])\n",
    "    print(\"Datatypes:\", [dtype for dtype in df.dtypes])"
   ]
  },
  {
   "cell_type": "markdown",
   "id": "b3f372ff-21d3-4653-9636-d7969ac4d24c",
   "metadata": {},
   "source": [
    "**Interpretation**<br>\n",
    "There are 10 instances (rows) with non-numerical data. In the code above, (for now) I have decided to exclude them from the dataset, as they account for <0,25% of the data. Possibly in later stages I might want to use a different way to handle these exeptions, if the model requires so.\n",
    "\n",
    "*Note: if the output indicates that \"there are 0 instances with missing data\", this might be due to running an already 'cleaned' version of df.*"
   ]
  },
  {
   "cell_type": "markdown",
   "id": "e29e5c74-92e6-4ae1-88fa-997dcf5da1a2",
   "metadata": {
    "tags": []
   },
   "source": [
    "#### Check for illogical data\n",
    "For each variable I decide by 'common sense' and looking at the data what the range should be in which the data is 'makes sense', or in other words is 'logical'. We start with looking at the histograms to get an impression of the distribution, min/max values etc. \n",
    "\n",
    "For all data that does not comply to the logical range, list the (unique) indices (in a set) and decide what to do with them."
   ]
  },
  {
   "cell_type": "code",
   "execution_count": 15,
   "id": "bb6572db-4b36-4fc7-ad79-2a87491b2494",
   "metadata": {
    "tags": []
   },
   "outputs": [],
   "source": [
    "# To increase readability of code, you can turn on/off running the script\n",
    "run = False\n",
    "\n",
    "# To increase readability of output, you can turn on/off the histograms\n",
    "# This can be changed per block of code\n",
    "\n",
    "if run or run_all:\n",
    "    # Histogram of original data\n",
    "    hist1 = False\n",
    "    if hist1 or run_all:\n",
    "        # Prepare and dispay histogram\n",
    "        for num, variable in enumerate(df.columns):\n",
    "            # Set bins of histogram to whole numbers \n",
    "            bin_min = math.floor(df[variable].min()); bin_max = math.ceil(df[variable].max()) + 1\n",
    "            bins = range(bin_min, bin_max)\n",
    "            \n",
    "            # Define the histogram\n",
    "            plt.figure(figsize=(3, 2))\n",
    "            n, bins, patches = plt.hist(x=df[variable], bins=bins, rwidth=0.75) \n",
    "            plt.grid(axis='y', alpha=0.75)\n",
    "            plt.ylabel(\"Count\")\n",
    "            plt.title(f\"Histogram of {variable}\")\n",
    "            plt.show()\n",
    "    \n",
    "    # Define range that the data 'logically' can in a dictionary\n",
    "    range_var = {\n",
    "        'genetic': (40, 120),\n",
    "        'length': (147, 220),\n",
    "        'mass': (30, 200),\n",
    "        'exercise': (0, 8),\n",
    "        'smoking': (0, 60),\n",
    "        'alcohol': (0, 12),\n",
    "        'sugar': (0, 50),\n",
    "        'lifespan': (40, 120)\n",
    "    }\n",
    "\n",
    "    # List data that does not comply with range\n",
    "    list_illogical = []\n",
    "    for variable in df.columns:\n",
    "        # Load range of variable in range_var\n",
    "        range_min = range_var[variable][0]; range_max = range_var[variable][1]\n",
    "        list_illogical = list_illogical + df.index[(df[variable] < range_min) | (df[variable] > range_max)].tolist()\n",
    "\n",
    "    set_illogical = set(list_illogical)\n",
    "    print(\"There are \", len(set_illogical), \" instances with data outside of the given boundries: \", set_illogical, sep=\"\")\n",
    "\n",
    "    # Remove incomplete/missing data from dataset\n",
    "    df = df.loc[~df.index.isin(set_illogical)]\n",
    "    \n",
    "    # Histogram of data after cleaning\n",
    "    hist2 = True\n",
    "    if hist2 or run_all:\n",
    "        # Prepare and dispay histogram\n",
    "        for num, variable in enumerate(df.columns):\n",
    "            # Set bins of histogram to whole numbers \n",
    "            bin_min = math.floor(df[variable].min()); bin_max = math.ceil(df[variable].max()) + 1\n",
    "            bins = range(bin_min, bin_max)\n",
    "            \n",
    "            # Define the histogram\n",
    "            plt.figure(figsize=(3, 2))\n",
    "            n, bins, patches = plt.hist(x=df[variable], bins=bins, rwidth=0.75) \n",
    "            plt.grid(axis='y', alpha=0.75)\n",
    "            plt.ylabel(\"Count\")\n",
    "            plt.title(f\"Histogram of {variable}\")\n",
    "            plt.show()"
   ]
  },
  {
   "cell_type": "markdown",
   "id": "45ebfdd9-1b85-4c2b-b30a-a13f8c44eda0",
   "metadata": {
    "tags": []
   },
   "source": [
    "**Interpretation**\n",
    "Firstly, we look at all the histograms without furter manipulating/transforming the data. I have chosen to use integer-bins, as to make the histograms beter interpretable (however I keep in mind that most of the data are floats). There are some histograms that raise some questions/remarks and some (one, namely 'lifespan') histograms that (seems to) show incorrect data. \n",
    "\n",
    "Questions:\n",
    "* A large part of the subjects are (very) tall (height > 200)\n",
    "* Peek of count at max height (height = 214)\n",
    "* A large part of the subjects are (very) heavy (mass > 100)\n",
    "* There seems to be a dropoff in mass at lower boundry (mass < 50) \n",
    "* There seems to be a dropoff in daily sigarette use (smoking > 21)\n",
    "* There seems to be a dropoff in daily alcohol consumption (alcohol > 6)\n",
    "* There seems to be a dropoff in daily hours of exercise (exercise > 6), however this one is less 'abrupt' than mass, sigarette use and alcohol\n",
    "\n",
    "After inspecting the histograms, I see that only the data of 'lifespan' should be manipulated at this point. However, I decided to set some more general 'logical ranges' for the variables, so the code could also handle other (new) data with unexpected 'illogical' values.\n",
    "\n",
    "*For the sake of this 'job', I quite subjectively 'guessed' appropriate ranges based on a quick Google-search. E.g. what is the oldest living person, what is the minimal/maximum height of 'regular' persons (implying this model will not fit people with other conditions), how much sugar can a person eat daily or how many sigarettes can a person smoke, etc. To check if my assumptions are somewhat reasonable, I compared them to the data in this database and concluded that my assumptions can be used in this case.*\n",
    "\n",
    "Based on the logical ranges, there are 2 instances that do not fit these boundries, which is <0.0005% of the dataset. They are (for now) excluded from the further analysis. \n",
    "\n",
    "This concludes the first part of preparing the dataset for EDA. Now we can start the 'real' exploratory data analysis. "
   ]
  },
  {
   "cell_type": "markdown",
   "id": "11fa0d43-af8a-4958-be64-61b77af05048",
   "metadata": {},
   "source": [
    "**There are different improvements to be made:**\n",
    "* The code of the histograms comes back two times. This should be cast in a function to simplify the code.\n",
    "* With subplots rearrange the histograms in a 2x4 frame.\n",
    "* The reasoning behind the chosen acceptable data-value ranges could be better/more specific. For the sake of time I choose not to do this."
   ]
  },
  {
   "cell_type": "markdown",
   "id": "7bbef2cd-79cf-4e38-8f9c-4076031afa97",
   "metadata": {},
   "source": [
    "#### Q-Q plots \n",
    "In addition to the histograms, we take a look at the Q-Q plots to assess the distribution of data. "
   ]
  },
  {
   "cell_type": "code",
   "execution_count": 16,
   "id": "e8fe4327-3232-43f9-b7f7-061320dc212d",
   "metadata": {
    "tags": []
   },
   "outputs": [],
   "source": [
    "# To increase readability of code, you can turn on/off running the script\n",
    "run = False\n",
    "if run or run_all:\n",
    "    # Q-Q plot\n",
    "    qqplot = True\n",
    "    if qqplot or run_all:\n",
    "        for variable in df.columns:\n",
    "            # Define the Q-Q plot\n",
    "            sm.qqplot(df[variable], line='s')\n",
    "            plt.title(f\"Q-Q plot of {variable}\")\n",
    "            plt.show()"
   ]
  },
  {
   "cell_type": "markdown",
   "id": "f8d2c232-0927-453c-b7b3-43c8df3f40cc",
   "metadata": {},
   "source": [
    "**Interpretation**<br>\n",
    "The questions that were raised when looking at the histograms are also visible in the Q-Q plots. There seem to be some (arbitrary) cutoff points, which indicates that this dataset is sampled on a specific subgroup of the population. Without more information, I am not able to explicit what the specific subgroup is, however this 'bias' of the dataset will have an effect on the model. This bias should be mentioned to the enduser."
   ]
  },
  {
   "cell_type": "markdown",
   "id": "cdc1d065-0aa0-48e6-93f9-f098c22a9649",
   "metadata": {},
   "source": [
    "**There are different improvements to be made:**\n",
    "* Alike the code of the histograms the Q-Q plots should be cast in a function to simplify the code.\n",
    "* The figures should look nicer and more clear."
   ]
  },
  {
   "cell_type": "markdown",
   "id": "1ed6a534-af6f-4c38-8d3d-c33ef531508b",
   "metadata": {
    "tags": []
   },
   "source": [
    "#### Check for duplicates\n",
    "Finally, we check for duplicates. If there are any, list the (unique) indices (in a set) and decide what to do with them."
   ]
  },
  {
   "cell_type": "code",
   "execution_count": null,
   "id": "00c15eea-e870-4b8e-b9da-43fd66a74c2c",
   "metadata": {
    "tags": []
   },
   "outputs": [],
   "source": [
    "# To increase readability of code, you can turn on/off running the script\n",
    "run = False\n",
    "\n",
    "if run or run_all:\n",
    "    # Check for and remove duplicates\n",
    "    print(df[df.duplicated()].shape)\n",
    "    df = df[~df.duplicated()]"
   ]
  },
  {
   "cell_type": "markdown",
   "id": "d1b50814-054e-4b0b-921f-adfeb8b6e291",
   "metadata": {},
   "source": [
    "**Interpretation**\n",
    "There are no duplicates in this dataset. However, if there would be, it is seems 'too coincidal' to be real and I would choose to remove the duplicate. However, this choice ios subjective and can be debated. "
   ]
  },
  {
   "cell_type": "markdown",
   "id": "291d3757-abdd-4459-bd60-6cfd7860aa76",
   "metadata": {},
   "source": [
    "### Exploratory Data Analysis: Looking at values, descriptives, correlations, ...\n",
    "In this part we start looking at values of variables, their mean, variance and standart deviation, the interaction and correlation with other variables, etc."
   ]
  },
  {
   "cell_type": "code",
   "execution_count": 32,
   "id": "300dba84-7d25-4538-8b3f-ad32a682f23c",
   "metadata": {
    "tags": []
   },
   "outputs": [
    {
     "data": {
      "text/html": [
       "<div>\n",
       "<style scoped>\n",
       "    .dataframe tbody tr th:only-of-type {\n",
       "        vertical-align: middle;\n",
       "    }\n",
       "\n",
       "    .dataframe tbody tr th {\n",
       "        vertical-align: top;\n",
       "    }\n",
       "\n",
       "    .dataframe thead th {\n",
       "        text-align: right;\n",
       "    }\n",
       "</style>\n",
       "<table border=\"1\" class=\"dataframe\">\n",
       "  <thead>\n",
       "    <tr style=\"text-align: right;\">\n",
       "      <th></th>\n",
       "      <th>genetic</th>\n",
       "      <th>length</th>\n",
       "      <th>mass</th>\n",
       "      <th>exercise</th>\n",
       "      <th>smoking</th>\n",
       "      <th>alcohol</th>\n",
       "      <th>sugar</th>\n",
       "      <th>lifespan</th>\n",
       "    </tr>\n",
       "  </thead>\n",
       "  <tbody>\n",
       "    <tr>\n",
       "      <th>count</th>\n",
       "      <td>4084.000000</td>\n",
       "      <td>4084.000000</td>\n",
       "      <td>4084.000000</td>\n",
       "      <td>4084.000000</td>\n",
       "      <td>4084.000000</td>\n",
       "      <td>4084.000000</td>\n",
       "      <td>4084.000000</td>\n",
       "      <td>4084.000000</td>\n",
       "    </tr>\n",
       "    <tr>\n",
       "      <th>mean</th>\n",
       "      <td>82.278624</td>\n",
       "      <td>183.885162</td>\n",
       "      <td>92.275930</td>\n",
       "      <td>2.403477</td>\n",
       "      <td>9.809035</td>\n",
       "      <td>2.266846</td>\n",
       "      <td>6.487169</td>\n",
       "      <td>80.177693</td>\n",
       "    </tr>\n",
       "    <tr>\n",
       "      <th>std</th>\n",
       "      <td>7.441333</td>\n",
       "      <td>12.622858</td>\n",
       "      <td>25.801031</td>\n",
       "      <td>1.170426</td>\n",
       "      <td>6.918614</td>\n",
       "      <td>1.801044</td>\n",
       "      <td>2.708622</td>\n",
       "      <td>7.840508</td>\n",
       "    </tr>\n",
       "    <tr>\n",
       "      <th>min</th>\n",
       "      <td>63.900000</td>\n",
       "      <td>154.000000</td>\n",
       "      <td>50.000000</td>\n",
       "      <td>0.100000</td>\n",
       "      <td>0.000000</td>\n",
       "      <td>0.000000</td>\n",
       "      <td>0.700000</td>\n",
       "      <td>57.000000</td>\n",
       "    </tr>\n",
       "    <tr>\n",
       "      <th>25%</th>\n",
       "      <td>77.600000</td>\n",
       "      <td>175.000000</td>\n",
       "      <td>71.475000</td>\n",
       "      <td>1.500000</td>\n",
       "      <td>3.375000</td>\n",
       "      <td>0.600000</td>\n",
       "      <td>4.400000</td>\n",
       "      <td>75.000000</td>\n",
       "    </tr>\n",
       "    <tr>\n",
       "      <th>50%</th>\n",
       "      <td>81.800000</td>\n",
       "      <td>184.000000</td>\n",
       "      <td>89.500000</td>\n",
       "      <td>2.200000</td>\n",
       "      <td>9.500000</td>\n",
       "      <td>1.700000</td>\n",
       "      <td>6.300000</td>\n",
       "      <td>79.700000</td>\n",
       "    </tr>\n",
       "    <tr>\n",
       "      <th>75%</th>\n",
       "      <td>86.700000</td>\n",
       "      <td>193.000000</td>\n",
       "      <td>110.825000</td>\n",
       "      <td>3.200000</td>\n",
       "      <td>15.900000</td>\n",
       "      <td>4.000000</td>\n",
       "      <td>8.400000</td>\n",
       "      <td>85.200000</td>\n",
       "    </tr>\n",
       "    <tr>\n",
       "      <th>max</th>\n",
       "      <td>102.200000</td>\n",
       "      <td>214.000000</td>\n",
       "      <td>163.600000</td>\n",
       "      <td>5.500000</td>\n",
       "      <td>22.200000</td>\n",
       "      <td>6.000000</td>\n",
       "      <td>13.800000</td>\n",
       "      <td>105.100000</td>\n",
       "    </tr>\n",
       "  </tbody>\n",
       "</table>\n",
       "</div>"
      ],
      "text/plain": [
       "           genetic       length         mass     exercise      smoking  \\\n",
       "count  4084.000000  4084.000000  4084.000000  4084.000000  4084.000000   \n",
       "mean     82.278624   183.885162    92.275930     2.403477     9.809035   \n",
       "std       7.441333    12.622858    25.801031     1.170426     6.918614   \n",
       "min      63.900000   154.000000    50.000000     0.100000     0.000000   \n",
       "25%      77.600000   175.000000    71.475000     1.500000     3.375000   \n",
       "50%      81.800000   184.000000    89.500000     2.200000     9.500000   \n",
       "75%      86.700000   193.000000   110.825000     3.200000    15.900000   \n",
       "max     102.200000   214.000000   163.600000     5.500000    22.200000   \n",
       "\n",
       "           alcohol        sugar     lifespan  \n",
       "count  4084.000000  4084.000000  4084.000000  \n",
       "mean      2.266846     6.487169    80.177693  \n",
       "std       1.801044     2.708622     7.840508  \n",
       "min       0.000000     0.700000    57.000000  \n",
       "25%       0.600000     4.400000    75.000000  \n",
       "50%       1.700000     6.300000    79.700000  \n",
       "75%       4.000000     8.400000    85.200000  \n",
       "max       6.000000    13.800000   105.100000  "
      ]
     },
     "metadata": {},
     "output_type": "display_data"
    },
    {
     "data": {
      "text/html": [
       "<div>\n",
       "<style scoped>\n",
       "    .dataframe tbody tr th:only-of-type {\n",
       "        vertical-align: middle;\n",
       "    }\n",
       "\n",
       "    .dataframe tbody tr th {\n",
       "        vertical-align: top;\n",
       "    }\n",
       "\n",
       "    .dataframe thead th {\n",
       "        text-align: right;\n",
       "    }\n",
       "</style>\n",
       "<table border=\"1\" class=\"dataframe\">\n",
       "  <thead>\n",
       "    <tr style=\"text-align: right;\">\n",
       "      <th></th>\n",
       "      <th>genetic</th>\n",
       "      <th>length</th>\n",
       "      <th>mass</th>\n",
       "      <th>exercise</th>\n",
       "      <th>smoking</th>\n",
       "      <th>alcohol</th>\n",
       "      <th>sugar</th>\n",
       "      <th>lifespan</th>\n",
       "    </tr>\n",
       "  </thead>\n",
       "  <tbody>\n",
       "    <tr>\n",
       "      <th>genetic</th>\n",
       "      <td>1.000000</td>\n",
       "      <td>-0.029606</td>\n",
       "      <td>0.000513</td>\n",
       "      <td>-0.035005</td>\n",
       "      <td>-0.015490</td>\n",
       "      <td>-0.013170</td>\n",
       "      <td>0.018785</td>\n",
       "      <td>0.949799</td>\n",
       "    </tr>\n",
       "    <tr>\n",
       "      <th>length</th>\n",
       "      <td>-0.029606</td>\n",
       "      <td>1.000000</td>\n",
       "      <td>0.000106</td>\n",
       "      <td>0.011401</td>\n",
       "      <td>-0.020691</td>\n",
       "      <td>-0.007162</td>\n",
       "      <td>0.007860</td>\n",
       "      <td>0.013155</td>\n",
       "    </tr>\n",
       "    <tr>\n",
       "      <th>mass</th>\n",
       "      <td>0.000513</td>\n",
       "      <td>0.000106</td>\n",
       "      <td>1.000000</td>\n",
       "      <td>0.008204</td>\n",
       "      <td>-0.009541</td>\n",
       "      <td>0.000726</td>\n",
       "      <td>0.005601</td>\n",
       "      <td>-0.066040</td>\n",
       "    </tr>\n",
       "    <tr>\n",
       "      <th>exercise</th>\n",
       "      <td>-0.035005</td>\n",
       "      <td>0.011401</td>\n",
       "      <td>0.008204</td>\n",
       "      <td>1.000000</td>\n",
       "      <td>0.021512</td>\n",
       "      <td>-0.024521</td>\n",
       "      <td>-0.008328</td>\n",
       "      <td>0.082986</td>\n",
       "    </tr>\n",
       "    <tr>\n",
       "      <th>smoking</th>\n",
       "      <td>-0.015490</td>\n",
       "      <td>-0.020691</td>\n",
       "      <td>-0.009541</td>\n",
       "      <td>0.021512</td>\n",
       "      <td>1.000000</td>\n",
       "      <td>-0.012298</td>\n",
       "      <td>0.008925</td>\n",
       "      <td>-0.246140</td>\n",
       "    </tr>\n",
       "    <tr>\n",
       "      <th>alcohol</th>\n",
       "      <td>-0.013170</td>\n",
       "      <td>-0.007162</td>\n",
       "      <td>0.000726</td>\n",
       "      <td>-0.024521</td>\n",
       "      <td>-0.012298</td>\n",
       "      <td>1.000000</td>\n",
       "      <td>0.003860</td>\n",
       "      <td>-0.063539</td>\n",
       "    </tr>\n",
       "    <tr>\n",
       "      <th>sugar</th>\n",
       "      <td>0.018785</td>\n",
       "      <td>0.007860</td>\n",
       "      <td>0.005601</td>\n",
       "      <td>-0.008328</td>\n",
       "      <td>0.008925</td>\n",
       "      <td>0.003860</td>\n",
       "      <td>1.000000</td>\n",
       "      <td>-0.010887</td>\n",
       "    </tr>\n",
       "    <tr>\n",
       "      <th>lifespan</th>\n",
       "      <td>0.949799</td>\n",
       "      <td>0.013155</td>\n",
       "      <td>-0.066040</td>\n",
       "      <td>0.082986</td>\n",
       "      <td>-0.246140</td>\n",
       "      <td>-0.063539</td>\n",
       "      <td>-0.010887</td>\n",
       "      <td>1.000000</td>\n",
       "    </tr>\n",
       "  </tbody>\n",
       "</table>\n",
       "</div>"
      ],
      "text/plain": [
       "           genetic    length      mass  exercise   smoking   alcohol  \\\n",
       "genetic   1.000000 -0.029606  0.000513 -0.035005 -0.015490 -0.013170   \n",
       "length   -0.029606  1.000000  0.000106  0.011401 -0.020691 -0.007162   \n",
       "mass      0.000513  0.000106  1.000000  0.008204 -0.009541  0.000726   \n",
       "exercise -0.035005  0.011401  0.008204  1.000000  0.021512 -0.024521   \n",
       "smoking  -0.015490 -0.020691 -0.009541  0.021512  1.000000 -0.012298   \n",
       "alcohol  -0.013170 -0.007162  0.000726 -0.024521 -0.012298  1.000000   \n",
       "sugar     0.018785  0.007860  0.005601 -0.008328  0.008925  0.003860   \n",
       "lifespan  0.949799  0.013155 -0.066040  0.082986 -0.246140 -0.063539   \n",
       "\n",
       "             sugar  lifespan  \n",
       "genetic   0.018785  0.949799  \n",
       "length    0.007860  0.013155  \n",
       "mass      0.005601 -0.066040  \n",
       "exercise -0.008328  0.082986  \n",
       "smoking   0.008925 -0.246140  \n",
       "alcohol   0.003860 -0.063539  \n",
       "sugar     1.000000 -0.010887  \n",
       "lifespan -0.010887  1.000000  "
      ]
     },
     "metadata": {},
     "output_type": "display_data"
    },
    {
     "data": {
      "image/png": "[encoded data removed]",
      "text/plain": [
       "<Figure size 480x480 with 2 Axes>"
      ]
     },
     "metadata": {},
     "output_type": "display_data"
    }
   ],
   "source": [
    "# To increase readability of code, you can turn on/off running the script\n",
    "run = True\n",
    "if run or run_all:\n",
    "    # Descriptives\n",
    "    display(df.describe(include='all'))\n",
    "\n",
    "    # Correlation\n",
    "    corr_type = ['pearson'] # Alternatively: ['pearson', 'spearman']\n",
    "\n",
    "    for corr in corr_type:\n",
    "        # Visualise correlation\n",
    "        display(df.corr(corr))\n",
    "        plt.matshow(df.corr(corr), cmap='BrBG')\n",
    "        plt.colorbar()\n",
    "        plt.show()"
   ]
  },
  {
   "cell_type": "markdown",
   "id": "83abfeff-9374-4fa2-8564-e23a9d4998f0",
   "metadata": {},
   "source": [
    "**Interpretation**<br>\n",
    "Person correlation checks on linearity: are changes in values for both variables of similar size\n",
    "Spearman zegt of de richting van correlatie eenduidig is m.b.v. rangnummers\n",
    "Geen extra informatie door de spearman te gebruiken, dus voor overzicht achterwege gelaten \n",
    "Length and mass do not correlate (which is very weird...) QUESTION how do we know how to manipulate the data to make sense?"
   ]
  },
  {
   "cell_type": "markdown",
   "id": "8928edcd-1433-489a-86d0-ac4cc6c04896",
   "metadata": {},
   "source": [
    "**There are different improvements to be made:**\n",
    "* Xticklabels might be set to display the variables (?)"
   ]
  },
  {
   "cell_type": "markdown",
   "id": "c06c8f8d-8833-4777-b0c9-87143fbc7b70",
   "metadata": {},
   "source": [
    "#### Plotting individual independent variables to the dependent variable (and other variables?)\n",
    "The higher the correlation between variables, the more visible this should be in a plot of these variables. Thus we look at the larger correlations"
   ]
  },
  {
   "cell_type": "code",
   "execution_count": 31,
   "id": "d3165d26-edb7-46f8-8a39-4353d4bc2a0d",
   "metadata": {
    "tags": []
   },
   "outputs": [],
   "source": [
    "# To increase readability of code, you can turn on/off running the script\n",
    "run = False\n",
    "if run or run_all:\n",
    "    # Plotting variables\n",
    "    varplot = True\n",
    "    if varplot or run_all:\n",
    "        depend_var = 'lifespan' # Lifespan is the dependent variable\n",
    "        for variable in df.columns:\n",
    "            # Define the Q-Q plot\n",
    "            plt.scatter(df[variable], df[depend_var])\n",
    "            plt.title(f\"Plot of {variable} against {depend_var}\")\n",
    "            plt.show()"
   ]
  },
  {
   "cell_type": "markdown",
   "id": "ae45287e-11bd-4606-9880-45b1ecd6ec64",
   "metadata": {},
   "source": [
    "**Interpretation**<br>\n",
    "The questions that were raised when looking at the histograms are also visible in the Q-Q plots. There seem to be some (arbitrary) cutoff points, which indicates that this dataset is sampled on a specific subgroup of the population. Without more information, I am not able to explicit what the specific subgroup is, however this 'bias' of the dataset will have an effect on the model. This bias should be mentioned to the enduser."
   ]
  },
  {
   "cell_type": "markdown",
   "id": "e8715d06-03c4-4c48-9044-9a13093938de",
   "metadata": {},
   "source": [
    "**There are different improvements to be made:**\n",
    "* Alike the code of the histograms the plots should be cast in a function to simplify the code.\n",
    "* The figures should look nicer and more clear.\n",
    "* 'lifespan' should not be a static variable (CHANGE 'lifespan' to the first column)\n",
    "* "
   ]
  }
 ],
 "metadata": {
  "kernelspec": {
   "display_name": "Python 3 (ipykernel)",
   "language": "python",
   "name": "python3"
  },
  "language_info": {
   "codemirror_mode": {
    "name": "ipython",
    "version": 3
   },
   "file_extension": ".py",
   "mimetype": "text/x-python",
   "name": "python",
   "nbconvert_exporter": "python",
   "pygments_lexer": "ipython3",
   "version": "3.10.10"
  }
 },
 "nbformat": 4,
 "nbformat_minor": 5
}
