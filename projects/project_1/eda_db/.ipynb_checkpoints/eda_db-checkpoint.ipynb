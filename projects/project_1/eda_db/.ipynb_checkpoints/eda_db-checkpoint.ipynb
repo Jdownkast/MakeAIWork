{
 "cells": [
  {
   "cell_type": "markdown",
   "id": "9cb00e8d-dbcb-4185-abc4-804c891e0bcc",
   "metadata": {},
   "source": [
    "## This notebook describes the proces of exploring and manipulating the data"
   ]
  },
  {
   "cell_type": "markdown",
   "id": "c0bddd96-460c-483a-9465-21bbf6eabdf2",
   "metadata": {},
   "source": [
    "For review purpose, there is an option to run or not run specific lines of code. Use run_all to run all script."
   ]
  },
  {
   "cell_type": "code",
   "execution_count": 8,
   "id": "062e6c30-f581-45bc-94ab-ea9a86462046",
   "metadata": {
    "tags": []
   },
   "outputs": [],
   "source": [
    "run_all = False"
   ]
  },
  {
   "cell_type": "markdown",
   "id": "cf7bb4d0-3c5f-4ff0-b917-ee2b96a1c78e",
   "metadata": {},
   "source": [
    "**Imports**"
   ]
  },
  {
   "cell_type": "code",
   "execution_count": 21,
   "id": "affebb51-e2a8-4eaa-852c-5496e4567ccc",
   "metadata": {
    "tags": []
   },
   "outputs": [],
   "source": [
    "import pandas as pd\n",
    "import math\n",
    "import matplotlib.pyplot as plt\n"
   ]
  },
  {
   "cell_type": "markdown",
   "id": "eef5e62c-9b8b-4254-a052-4f0f3cb6ad79",
   "metadata": {},
   "source": [
    "**Load db into DataFrame**"
   ]
  },
  {
   "cell_type": "code",
   "execution_count": 3,
   "id": "51bcb9e5-f713-45e6-9e2c-a976d6990318",
   "metadata": {},
   "outputs": [],
   "source": [
    "# df = pd.read_csv(\"../dload_db/csv/db_mcr.csv\")\n",
    "# Temporary static file, until we can use Django-server\n",
    "df = pd.read_csv(\"../dload_db/csv/static_db_mcr.csv\")"
   ]
  },
  {
   "cell_type": "markdown",
   "id": "77835ed2-4ff7-4aa6-9194-c83ddbe8e5ed",
   "metadata": {
    "tags": []
   },
   "source": [
    "#### Exploration of data\n",
    "This database represents subjects (persons) with a certain lifestyle and projected lifespan. Ultimately, this data is used to predict lifespan based on the other variables.\n",
    "\n",
    "First, we answer some exploratory question. E.g. what kind of data are we working with, do we understand the variabels (columns), is the data making sense for each variable, are we missing data etc. I am starting with the most simple descriptives and build up from there."
   ]
  },
  {
   "cell_type": "code",
   "execution_count": 9,
   "id": "e8d430d6-de5e-4153-b8e7-1481dfed7e4f",
   "metadata": {
    "tags": []
   },
   "outputs": [],
   "source": [
    "run = False\n",
    "\n",
    "if run or run_all:\n",
    "    # Headers (variables), dtypes and shape\n",
    "    print(\"Headers (variables):\", [variable for variable in df.columns])\n",
    "    print(\"Datatypes:\", [dtype for dtype in df.dtypes])\n",
    "    print(\"Rows: \", df.shape[0], \"; Cols: \", df.shape[1], sep=\"\")\n",
    "    print(\"\") # Create enter after information\n",
    "    \n",
    "    # Same can be done via .info()\n",
    "    print(df.info())\n",
    "    print(\"\") # Create enter after information\n",
    "\n",
    "    # Display head()\n",
    "    display(df.head())"
   ]
  },
  {
   "cell_type": "markdown",
   "id": "341fc62d-a6a1-4915-abfb-cfb47a499afa",
   "metadata": {},
   "source": [
    "**Interpretation**<br>\n",
    "Firstly we see that there are 8 variables. Of these 1 is a dependent variable (lifespan) and 7 are independent variables. \n",
    "\n",
    "These variables are describes as:<br>\n",
    "***genetic:** the expected lifespan in years based genetic factors, independent on lifestyle<br>\n",
    "**lenght:** lenght in cm<br>\n",
    "**mass:** weight (mass) in kg<br>\n",
    "**exercise:** (average) daily hours of exercise<br>\n",
    "**smoking:** (average) daily number of sigarettes<br>\n",
    "**alcohol:** (average) daily number of glasses alcohol<br>\n",
    "**suger:** (average) daily cubes of sugar (4 gramms)<br>\n",
    "**lifespan (dependant):** projected lifespan in years, dependent on lifestyle<br>*\n",
    "\n",
    "Based on the descriptions, we can deduce that all variables are numbers, mostly floats but also possibly ints (lenght?). All variables should be positive numbers and depending on the variable have a certain logical range. \n",
    "\n",
    "We see in '.info()' that some variables have dtype 'object' which is equivalent to 'string'. We need to find out why and whether we need to manipulate the data. Also, we see that there are no 'Null' or empty datapoints from comparing the index (shape) with the non-null count. However, there might be datapoints that have other annotations to indicate data is missing (e.g. \"NaN\") or other non-numerical data."
   ]
  },
  {
   "cell_type": "markdown",
   "id": "0c9ec0e9-5c67-4a97-a914-aa093daf6795",
   "metadata": {},
   "source": [
    "##### Check for non numerical data\n",
    "Start with listing all indices that have non numerical data. Respecify the dtype as either int() or float(). For all non-complient data, list the (unique) indices (in a set) and decide what to do with them."
   ]
  },
  {
   "cell_type": "code",
   "execution_count": 10,
   "id": "1c186737-45b4-4b05-b4a6-7827b7076611",
   "metadata": {
    "tags": []
   },
   "outputs": [],
   "source": [
    "run = False\n",
    "\n",
    "if run or run_all:\n",
    "    # List indices of all non numerical entries\n",
    "    list_non_num = []\n",
    "    for variable in df.columns:\n",
    "        list_non_num = list_non_num + df.index[~pd.to_numeric(df[variable], errors=\"coerce\").notnull()].tolist()\n",
    "\n",
    "    set_non_num = set(list_non_num)\n",
    "    print(\"There are \", len(set_non_num), \" instances with missing data: \", set_non_num, sep=\"\")\n",
    "\n",
    "    # Remove incomplete/missing data from dataset\n",
    "    df = df.loc[~df.index.isin(set_non_num)]\n",
    "\n",
    "    # Then we convert the object-type variables to numeric and check.\n",
    "    for variable in df.columns:\n",
    "        df[variable] = pd.to_numeric(df[variable])\n",
    "    print(\"Datatypes:\", [dtype for dtype in df.dtypes])"
   ]
  },
  {
   "cell_type": "markdown",
   "id": "b3f372ff-21d3-4653-9636-d7969ac4d24c",
   "metadata": {},
   "source": [
    "**Interpretation**<br>\n",
    "There are 10 indices (rows) with non-numerical data. In the code above, (for now) I have decided to exclude them from the dataset, as they account for <0,25% of the data. Possibly in later stages I might want to use a different way to handle these exeptions, if the model requires so.\n",
    "\n",
    "*Note: if the output indicates that \"there are 0 instances with missing data\", this might be due to running an already 'cleaned' version of df.*"
   ]
  },
  {
   "cell_type": "markdown",
   "id": "e29e5c74-92e6-4ae1-88fa-997dcf5da1a2",
   "metadata": {
    "tags": []
   },
   "source": [
    "##### Check for illogical data\n",
    "For each variable I decide by 'common sense' and looking at the data what the range should be in which the data is 'makes sense', or in other words is 'logical'. We start with looking at the histograms to get an impression of the distribution, min/max values etc. \n",
    "\n",
    "For all data that does not comply to the logical range, list the (unique) indices (in a set) and decide what to do with them."
   ]
  },
  {
   "cell_type": "code",
   "execution_count": 64,
   "id": "bb6572db-4b36-4fc7-ad79-2a87491b2494",
   "metadata": {
    "tags": []
   },
   "outputs": [
    {
     "ename": "ValueError",
     "evalue": "operands could not be broadcast together with shapes (0,) (2,) ",
     "output_type": "error",
     "traceback": [
      "\u001b[1;31m---------------------------------------------------------------------------\u001b[0m",
      "\u001b[1;31mValueError\u001b[0m                                Traceback (most recent call last)",
      "Cell \u001b[1;32mIn[64], line 34\u001b[0m\n\u001b[0;32m     31\u001b[0m \u001b[38;5;28;01mfor\u001b[39;00m variable \u001b[38;5;129;01min\u001b[39;00m df\u001b[38;5;241m.\u001b[39mcolumns:\n\u001b[0;32m     32\u001b[0m     \u001b[38;5;66;03m# Load range of variable in range_var\u001b[39;00m\n\u001b[0;32m     33\u001b[0m     range_min \u001b[38;5;241m=\u001b[39m range_var[variable][\u001b[38;5;241m0\u001b[39m]; range_max \u001b[38;5;241m=\u001b[39m range_var[variable][\u001b[38;5;241m1\u001b[39m]\n\u001b[1;32m---> 34\u001b[0m     list_illogical \u001b[38;5;241m=\u001b[39m \u001b[43mlist_illogical\u001b[49m\u001b[43m \u001b[49m\u001b[38;5;241;43m+\u001b[39;49m\u001b[43m \u001b[49m\u001b[43mdf\u001b[49m\u001b[38;5;241;43m.\u001b[39;49m\u001b[43mindex\u001b[49m\u001b[43m[\u001b[49m\u001b[43m(\u001b[49m\u001b[43mdf\u001b[49m\u001b[43m[\u001b[49m\u001b[43mvariable\u001b[49m\u001b[43m]\u001b[49m\u001b[43m \u001b[49m\u001b[38;5;241;43m<\u001b[39;49m\u001b[43m \u001b[49m\u001b[43mrange_min\u001b[49m\u001b[43m)\u001b[49m\u001b[43m \u001b[49m\u001b[38;5;241;43m|\u001b[39;49m\u001b[43m \u001b[49m\u001b[43m(\u001b[49m\u001b[43mdf\u001b[49m\u001b[43m[\u001b[49m\u001b[43mvariable\u001b[49m\u001b[43m]\u001b[49m\u001b[43m \u001b[49m\u001b[38;5;241;43m>\u001b[39;49m\u001b[43m \u001b[49m\u001b[43mrange_max\u001b[49m\u001b[43m)\u001b[49m\u001b[43m]\u001b[49m\n\u001b[0;32m     36\u001b[0m \u001b[38;5;28mprint\u001b[39m(list_illogical)\n",
      "File \u001b[1;32m~\\MakeAIWork\\miw\\lib\\site-packages\\pandas\\core\\ops\\common.py:72\u001b[0m, in \u001b[0;36m_unpack_zerodim_and_defer.<locals>.new_method\u001b[1;34m(self, other)\u001b[0m\n\u001b[0;32m     68\u001b[0m             \u001b[38;5;28;01mreturn\u001b[39;00m \u001b[38;5;28mNotImplemented\u001b[39m\n\u001b[0;32m     70\u001b[0m other \u001b[38;5;241m=\u001b[39m item_from_zerodim(other)\n\u001b[1;32m---> 72\u001b[0m \u001b[38;5;28;01mreturn\u001b[39;00m \u001b[43mmethod\u001b[49m\u001b[43m(\u001b[49m\u001b[38;5;28;43mself\u001b[39;49m\u001b[43m,\u001b[49m\u001b[43m \u001b[49m\u001b[43mother\u001b[49m\u001b[43m)\u001b[49m\n",
      "File \u001b[1;32m~\\MakeAIWork\\miw\\lib\\site-packages\\pandas\\core\\arraylike.py:102\u001b[0m, in \u001b[0;36mOpsMixin.__add__\u001b[1;34m(self, other)\u001b[0m\n\u001b[0;32m    100\u001b[0m \u001b[38;5;129m@unpack_zerodim_and_defer\u001b[39m(\u001b[38;5;124m\"\u001b[39m\u001b[38;5;124m__add__\u001b[39m\u001b[38;5;124m\"\u001b[39m)\n\u001b[0;32m    101\u001b[0m \u001b[38;5;28;01mdef\u001b[39;00m \u001b[38;5;21m__add__\u001b[39m(\u001b[38;5;28mself\u001b[39m, other):\n\u001b[1;32m--> 102\u001b[0m     \u001b[38;5;28;01mreturn\u001b[39;00m \u001b[38;5;28;43mself\u001b[39;49m\u001b[38;5;241;43m.\u001b[39;49m\u001b[43m_arith_method\u001b[49m\u001b[43m(\u001b[49m\u001b[43mother\u001b[49m\u001b[43m,\u001b[49m\u001b[43m \u001b[49m\u001b[43moperator\u001b[49m\u001b[38;5;241;43m.\u001b[39;49m\u001b[43madd\u001b[49m\u001b[43m)\u001b[49m\n",
      "File \u001b[1;32m~\\MakeAIWork\\miw\\lib\\site-packages\\pandas\\core\\indexes\\base.py:7007\u001b[0m, in \u001b[0;36mIndex._arith_method\u001b[1;34m(self, other, op)\u001b[0m\n\u001b[0;32m   6997\u001b[0m \u001b[38;5;28;01mif\u001b[39;00m (\n\u001b[0;32m   6998\u001b[0m     \u001b[38;5;28misinstance\u001b[39m(other, Index)\n\u001b[0;32m   6999\u001b[0m     \u001b[38;5;129;01mand\u001b[39;00m is_object_dtype(other\u001b[38;5;241m.\u001b[39mdtype)\n\u001b[1;32m   (...)\u001b[0m\n\u001b[0;32m   7003\u001b[0m     \u001b[38;5;66;03m# a chance to implement ops before we unwrap them.\u001b[39;00m\n\u001b[0;32m   7004\u001b[0m     \u001b[38;5;66;03m# See https://github.com/pandas-dev/pandas/issues/31109\u001b[39;00m\n\u001b[0;32m   7005\u001b[0m     \u001b[38;5;28;01mreturn\u001b[39;00m \u001b[38;5;28mNotImplemented\u001b[39m\n\u001b[1;32m-> 7007\u001b[0m \u001b[38;5;28;01mreturn\u001b[39;00m \u001b[38;5;28;43msuper\u001b[39;49m\u001b[43m(\u001b[49m\u001b[43m)\u001b[49m\u001b[38;5;241;43m.\u001b[39;49m\u001b[43m_arith_method\u001b[49m\u001b[43m(\u001b[49m\u001b[43mother\u001b[49m\u001b[43m,\u001b[49m\u001b[43m \u001b[49m\u001b[43mop\u001b[49m\u001b[43m)\u001b[49m\n",
      "File \u001b[1;32m~\\MakeAIWork\\miw\\lib\\site-packages\\pandas\\core\\base.py:1325\u001b[0m, in \u001b[0;36mIndexOpsMixin._arith_method\u001b[1;34m(self, other, op)\u001b[0m\n\u001b[0;32m   1322\u001b[0m rvalues \u001b[38;5;241m=\u001b[39m ensure_wrapped_if_datetimelike(rvalues)\n\u001b[0;32m   1324\u001b[0m \u001b[38;5;28;01mwith\u001b[39;00m np\u001b[38;5;241m.\u001b[39merrstate(\u001b[38;5;28mall\u001b[39m\u001b[38;5;241m=\u001b[39m\u001b[38;5;124m\"\u001b[39m\u001b[38;5;124mignore\u001b[39m\u001b[38;5;124m\"\u001b[39m):\n\u001b[1;32m-> 1325\u001b[0m     result \u001b[38;5;241m=\u001b[39m \u001b[43mops\u001b[49m\u001b[38;5;241;43m.\u001b[39;49m\u001b[43marithmetic_op\u001b[49m\u001b[43m(\u001b[49m\u001b[43mlvalues\u001b[49m\u001b[43m,\u001b[49m\u001b[43m \u001b[49m\u001b[43mrvalues\u001b[49m\u001b[43m,\u001b[49m\u001b[43m \u001b[49m\u001b[43mop\u001b[49m\u001b[43m)\u001b[49m\n\u001b[0;32m   1327\u001b[0m \u001b[38;5;28;01mreturn\u001b[39;00m \u001b[38;5;28mself\u001b[39m\u001b[38;5;241m.\u001b[39m_construct_result(result, name\u001b[38;5;241m=\u001b[39mres_name)\n",
      "File \u001b[1;32m~\\MakeAIWork\\miw\\lib\\site-packages\\pandas\\core\\ops\\array_ops.py:226\u001b[0m, in \u001b[0;36marithmetic_op\u001b[1;34m(left, right, op)\u001b[0m\n\u001b[0;32m    222\u001b[0m     _bool_arith_check(op, left, right)\n\u001b[0;32m    224\u001b[0m     \u001b[38;5;66;03m# error: Argument 1 to \"_na_arithmetic_op\" has incompatible type\u001b[39;00m\n\u001b[0;32m    225\u001b[0m     \u001b[38;5;66;03m# \"Union[ExtensionArray, ndarray[Any, Any]]\"; expected \"ndarray[Any, Any]\"\u001b[39;00m\n\u001b[1;32m--> 226\u001b[0m     res_values \u001b[38;5;241m=\u001b[39m \u001b[43m_na_arithmetic_op\u001b[49m\u001b[43m(\u001b[49m\u001b[43mleft\u001b[49m\u001b[43m,\u001b[49m\u001b[43m \u001b[49m\u001b[43mright\u001b[49m\u001b[43m,\u001b[49m\u001b[43m \u001b[49m\u001b[43mop\u001b[49m\u001b[43m)\u001b[49m  \u001b[38;5;66;03m# type: ignore[arg-type]\u001b[39;00m\n\u001b[0;32m    228\u001b[0m \u001b[38;5;28;01mreturn\u001b[39;00m res_values\n",
      "File \u001b[1;32m~\\MakeAIWork\\miw\\lib\\site-packages\\pandas\\core\\ops\\array_ops.py:165\u001b[0m, in \u001b[0;36m_na_arithmetic_op\u001b[1;34m(left, right, op, is_cmp)\u001b[0m\n\u001b[0;32m    162\u001b[0m     func \u001b[38;5;241m=\u001b[39m partial(expressions\u001b[38;5;241m.\u001b[39mevaluate, op)\n\u001b[0;32m    164\u001b[0m \u001b[38;5;28;01mtry\u001b[39;00m:\n\u001b[1;32m--> 165\u001b[0m     result \u001b[38;5;241m=\u001b[39m \u001b[43mfunc\u001b[49m\u001b[43m(\u001b[49m\u001b[43mleft\u001b[49m\u001b[43m,\u001b[49m\u001b[43m \u001b[49m\u001b[43mright\u001b[49m\u001b[43m)\u001b[49m\n\u001b[0;32m    166\u001b[0m \u001b[38;5;28;01mexcept\u001b[39;00m \u001b[38;5;167;01mTypeError\u001b[39;00m:\n\u001b[0;32m    167\u001b[0m     \u001b[38;5;28;01mif\u001b[39;00m \u001b[38;5;129;01mnot\u001b[39;00m is_cmp \u001b[38;5;129;01mand\u001b[39;00m (is_object_dtype(left\u001b[38;5;241m.\u001b[39mdtype) \u001b[38;5;129;01mor\u001b[39;00m is_object_dtype(right)):\n\u001b[0;32m    168\u001b[0m         \u001b[38;5;66;03m# For object dtype, fallback to a masked operation (only operating\u001b[39;00m\n\u001b[0;32m    169\u001b[0m         \u001b[38;5;66;03m#  on the non-missing values)\u001b[39;00m\n\u001b[0;32m    170\u001b[0m         \u001b[38;5;66;03m# Don't do this for comparisons, as that will handle complex numbers\u001b[39;00m\n\u001b[0;32m    171\u001b[0m         \u001b[38;5;66;03m#  incorrectly, see GH#32047\u001b[39;00m\n",
      "File \u001b[1;32m~\\MakeAIWork\\miw\\lib\\site-packages\\pandas\\core\\computation\\expressions.py:241\u001b[0m, in \u001b[0;36mevaluate\u001b[1;34m(op, a, b, use_numexpr)\u001b[0m\n\u001b[0;32m    238\u001b[0m \u001b[38;5;28;01mif\u001b[39;00m op_str \u001b[38;5;129;01mis\u001b[39;00m \u001b[38;5;129;01mnot\u001b[39;00m \u001b[38;5;28;01mNone\u001b[39;00m:\n\u001b[0;32m    239\u001b[0m     \u001b[38;5;28;01mif\u001b[39;00m use_numexpr:\n\u001b[0;32m    240\u001b[0m         \u001b[38;5;66;03m# error: \"None\" not callable\u001b[39;00m\n\u001b[1;32m--> 241\u001b[0m         \u001b[38;5;28;01mreturn\u001b[39;00m \u001b[43m_evaluate\u001b[49m\u001b[43m(\u001b[49m\u001b[43mop\u001b[49m\u001b[43m,\u001b[49m\u001b[43m \u001b[49m\u001b[43mop_str\u001b[49m\u001b[43m,\u001b[49m\u001b[43m \u001b[49m\u001b[43ma\u001b[49m\u001b[43m,\u001b[49m\u001b[43m \u001b[49m\u001b[43mb\u001b[49m\u001b[43m)\u001b[49m  \u001b[38;5;66;03m# type: ignore[misc]\u001b[39;00m\n\u001b[0;32m    242\u001b[0m \u001b[38;5;28;01mreturn\u001b[39;00m _evaluate_standard(op, op_str, a, b)\n",
      "File \u001b[1;32m~\\MakeAIWork\\miw\\lib\\site-packages\\pandas\\core\\computation\\expressions.py:129\u001b[0m, in \u001b[0;36m_evaluate_numexpr\u001b[1;34m(op, op_str, a, b)\u001b[0m\n\u001b[0;32m    126\u001b[0m     _store_test_result(result \u001b[38;5;129;01mis\u001b[39;00m \u001b[38;5;129;01mnot\u001b[39;00m \u001b[38;5;28;01mNone\u001b[39;00m)\n\u001b[0;32m    128\u001b[0m \u001b[38;5;28;01mif\u001b[39;00m result \u001b[38;5;129;01mis\u001b[39;00m \u001b[38;5;28;01mNone\u001b[39;00m:\n\u001b[1;32m--> 129\u001b[0m     result \u001b[38;5;241m=\u001b[39m \u001b[43m_evaluate_standard\u001b[49m\u001b[43m(\u001b[49m\u001b[43mop\u001b[49m\u001b[43m,\u001b[49m\u001b[43m \u001b[49m\u001b[43mop_str\u001b[49m\u001b[43m,\u001b[49m\u001b[43m \u001b[49m\u001b[43ma\u001b[49m\u001b[43m,\u001b[49m\u001b[43m \u001b[49m\u001b[43mb\u001b[49m\u001b[43m)\u001b[49m\n\u001b[0;32m    131\u001b[0m \u001b[38;5;28;01mreturn\u001b[39;00m result\n",
      "File \u001b[1;32m~\\MakeAIWork\\miw\\lib\\site-packages\\pandas\\core\\computation\\expressions.py:70\u001b[0m, in \u001b[0;36m_evaluate_standard\u001b[1;34m(op, op_str, a, b)\u001b[0m\n\u001b[0;32m     68\u001b[0m \u001b[38;5;28;01mif\u001b[39;00m _TEST_MODE:\n\u001b[0;32m     69\u001b[0m     _store_test_result(\u001b[38;5;28;01mFalse\u001b[39;00m)\n\u001b[1;32m---> 70\u001b[0m \u001b[38;5;28;01mreturn\u001b[39;00m \u001b[43mop\u001b[49m\u001b[43m(\u001b[49m\u001b[43ma\u001b[49m\u001b[43m,\u001b[49m\u001b[43m \u001b[49m\u001b[43mb\u001b[49m\u001b[43m)\u001b[49m\n",
      "\u001b[1;31mValueError\u001b[0m: operands could not be broadcast together with shapes (0,) (2,) "
     ]
    }
   ],
   "source": [
    "run = False\n",
    "\n",
    "if run or run_all:\n",
    "    # Prepare and dispay histograms\n",
    "    for variable in df.columns:\n",
    "        # Set bins of histogram to whole numbers \n",
    "        bin_min = df[variable].min(); bin_max = df[variable].max()\n",
    "        bins = range(math.floor(bin_min), math.ceil(bin_max))\n",
    "\n",
    "        # Define the histogram\n",
    "        n, bins, patches = plt.hist(x=df[variable], bins=bins, rwidth=0.75) \n",
    "        plt.grid(axis='y', alpha=0.75)\n",
    "        plt.ylabel(\"Count\")\n",
    "        plt.title(f\"Histogram of {variable}\")\n",
    "        plt.show()\n",
    "\n",
    "# Define range that the data 'logically' can in a dictionary\n",
    "range_var = {\n",
    "    'genetic': (40, 120),\n",
    "    'length': (147, 220),\n",
    "    'mass': (30, 200),\n",
    "    'exercise': (0, 8),\n",
    "    'smoking': (0, 60),\n",
    "    'alcohol': (0, 12),\n",
    "    'sugar': (0, 50),\n",
    "    'lifespan': (40, 120)\n",
    "}\n",
    "\n",
    "# List data that does not comply with range\n",
    "list_illogical = []\n",
    "for variable in df.columns:\n",
    "    # Load range of variable in range_var\n",
    "    range_min = range_var[variable][0]; range_max = range_var[variable][1]\n",
    "    list_illogical = list_illogical + df.index[(df[variable] < range_min) | (df[variable] > range_max)]\n",
    "\n",
    "print(list_illogical)"
   ]
  },
  {
   "cell_type": "markdown",
   "id": "45ebfdd9-1b85-4c2b-b30a-a13f8c44eda0",
   "metadata": {
    "tags": []
   },
   "source": [
    "**Interpretation**\n",
    "\n",
    "        # (this makes most/all variables 'logically interpretable', but I must beware that the data are mostly floats)"
   ]
  },
  {
   "cell_type": "code",
   "execution_count": null,
   "id": "87a88b04-4c54-44a4-91b5-c81981f9ba9d",
   "metadata": {},
   "outputs": [],
   "source": []
  },
  {
   "cell_type": "code",
   "execution_count": null,
   "id": "2e8f1d29-c89d-4849-9827-a6d002020c5f",
   "metadata": {},
   "outputs": [],
   "source": []
  }
 ],
 "metadata": {
  "kernelspec": {
   "display_name": "Python 3 (ipykernel)",
   "language": "python",
   "name": "python3"
  },
  "language_info": {
   "codemirror_mode": {
    "name": "ipython",
    "version": 3
   },
   "file_extension": ".py",
   "mimetype": "text/x-python",
   "name": "python",
   "nbconvert_exporter": "python",
   "pygments_lexer": "ipython3",
   "version": "3.10.10"
  }
 },
 "nbformat": 4,
 "nbformat_minor": 5
}
