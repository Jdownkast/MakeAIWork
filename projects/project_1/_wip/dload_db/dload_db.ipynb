{
 "cells": [
  {
   "cell_type": "markdown",
   "id": "c7a2c7af-7c3a-410f-9682-0bfc8bbf2128",
   "metadata": {
    "tags": []
   },
   "source": [
    "## This notebook describes code used for starting the Django-server, getting and saving the data and terminating the server\n",
    "\n",
    "The code is build as a bash file (.sh). From here it starts the server (with another bash script) and terminates it afterwadd. In between it calls a python script to save the data."
   ]
  },
  {
   "cell_type": "markdown",
   "id": "87ee8abc-736a-4d5c-a458-0cd8de928388",
   "metadata": {},
   "source": [
    "#### dload_db.sh\n",
    "\n",
    "This scripts calls the required subscripts and terminates the Django-server."
   ]
  },
  {
   "cell_type": "raw",
   "id": "95166e21-1160-4246-aa98-5096e8049070",
   "metadata": {
    "tags": []
   },
   "source": [
    "#!/usr/bin/env bash\n",
    "\n",
    "# Start server\n",
    "# MAKE PATH DYNAMIC\n",
    "cd .\n",
    "source ./dload_serverstart.sh\n",
    "pid=$(echo \"$!\")\n",
    "\n",
    "# Get data with REST API and save as csv\n",
    "python dload_get_save_db.py\n",
    "\n",
    "# Terminate server\n",
    "# FIND OTHER SOLLUTION FOR TERMINATING THE SERVER\n",
    "kill -9 $pid"
   ]
  },
  {
   "cell_type": "markdown",
   "id": "4b91ea1c-b1e8-4bc9-9981-c4ca4823b1e3",
   "metadata": {},
   "source": [
    "**Explanation of code**<br>\n",
    "Firstly it uses shebang to ensure the code is executed in bash. From the given path, it then runs 'db_serverstart.sh' to start the server. See code below for the contents of this script.\n",
    "\n",
    "When the server is running, it uses 'echo \"\\\\$!\"' to save the PID (Process ID) of latest started process. This \\\\$PID is later used to (hard)kill the server. This choise seems suboptimal (hardkilling is the last resort you want to take), but for now it seems the only viable sollution (I could find)."
   ]
  },
  {
   "cell_type": "markdown",
   "id": "58008239-eb64-4fc5-8ba0-c398ce0ea290",
   "metadata": {},
   "source": [
    "**There are different improvements to be made:**\n",
    "* The path to start the server is static. To make it work on different computers, it has to be dynamic.\n",
    "* The way that the server is terminated is suboptimal. If possible I will implement another sollution."
   ]
  },
  {
   "cell_type": "markdown",
   "id": "07b9ab0e-3da4-4c97-a5e5-4a244c853445",
   "metadata": {},
   "source": [
    "#### db_serverstart.sh\n",
    "\n",
    "This script starts the server on the given local port. The script is a simplification of 'start_rest_server.sh', as not to open the server in a browser. "
   ]
  },
  {
   "cell_type": "raw",
   "id": "d32c7d52-88f7-409e-966c-f44dddef799e",
   "metadata": {},
   "source": [
    "#!/usr/bin/env bash\n",
    "\n",
    "port=8080\n",
    "url=\"http://localhost:$port/medish_centrum_randstad/api/netlify\"\n",
    "\n",
    "printf \"Start django application at %s\\n\" ${url}\n",
    "python ../from_miw/rest_server/medisch_centrum_randstad/manage.py runserver 0.0.0.0:${port} &"
   ]
  },
  {
   "cell_type": "markdown",
   "id": "4d3c73ef-2e14-4c01-b98d-bd56452da47e",
   "metadata": {},
   "source": [
    "**Explanation of code**<br>\n",
    "Again, I used shebang. Then defined the port (made sure it differed from the port of Jupyterlab, but do not know this is necessary) and url. \n",
    "\n",
    "Next, print the url to the user and run the manage.py script on the defined port. The manage.py script ultimately starts the Django-server, however I did not adjust this code and therefore will not elaborate on this."
   ]
  },
  {
   "cell_type": "markdown",
   "id": "d1eb131d-58ce-4b4e-a39a-bd8d3784176d",
   "metadata": {},
   "source": [
    "#### dload_get_save_db.py\n",
    "\n",
    "This python script uses an REST API to get the data from the Django-server. Then it casts it in an Pandas-DataFrame and saves it as a csv-file. "
   ]
  },
  {
   "cell_type": "raw",
   "id": "873a2d14-ca52-455e-badb-f091769776d8",
   "metadata": {},
   "source": [
    "from requests import get\n",
    "from pandas import DataFrame\n",
    "\n",
    "# Get data from rest server\n",
    "# URL IS NOT STATIC > COMBINE WITH p1_dload_db\n",
    "url = \"http://localhost:8080/medish_centrum_randstad/api/netlify\"\n",
    "response = get(url)\n",
    "dict_df = response.json()\n",
    "\n",
    "# Put data in DataFrame and save as csv\n",
    "df_mcr = DataFrame(dict_df[\"data\"])\n",
    "path_db = \"csv/db_mcr.csv\"\n",
    "df_mcr.to_csv(path_db, index=False)"
   ]
  },
  {
   "cell_type": "markdown",
   "id": "dc9da6e8-a1b7-4e9f-b63b-92ce5e762ce0",
   "metadata": {},
   "source": [
    "**Explanation of code**<br>\n",
    "Firstly, the required libraries are imported. Then the url of the local Django-server is defined, however this is done suboptimal as the address is static (hardcoded) instead of dynamic. \n",
    "\n",
    "Then the url is approached with a REST API to get the required data. The script iterates through the different pages on the server to get all datapoints. Subsequentially it casts the response of the REST API in an dictionary.\n",
    "\n",
    "The relevant data of the dictionary is casts in a DataFrame and saved to a csv-file. I have chosen not to include the index as it is not necessary."
   ]
  },
  {
   "cell_type": "markdown",
   "id": "cdaf9efc-66b5-4901-861f-8cb117c67f3e",
   "metadata": {},
   "source": [
    "**There are different improvements to be made:**\n",
    "* The url can change if previous script ('db_serverstart.sh') is adjusted. Somehow we want to het the variable 'url' from that file to this python script."
   ]
  },
  {
   "cell_type": "markdown",
   "id": "413ea7e0-2381-4804-a7bd-3eaf5e8ed38f",
   "metadata": {},
   "source": [
    "### Next steps\n",
    "The next step is to explore the data that is downloaded. Furthermore, I would like to create a 'master-code' of some sorts, so I can call all code to download and manipulate the data from one source (this would enable an \"update dataset\" option in the end-application)."
   ]
  },
  {
   "cell_type": "markdown",
   "id": "230681df-b326-4f7a-87dd-5b99333e3618",
   "metadata": {},
   "source": [
    "**There are different improvements to be made:**<br>\n",
    "* Try and get the data out of a db file with SQL."
   ]
  }
 ],
 "metadata": {
  "kernelspec": {
   "display_name": "Python 3 (ipykernel)",
   "language": "python",
   "name": "python3"
  },
  "language_info": {
   "codemirror_mode": {
    "name": "ipython",
    "version": 3
   },
   "file_extension": ".py",
   "mimetype": "text/x-python",
   "name": "python",
   "nbconvert_exporter": "python",
   "pygments_lexer": "ipython3",
   "version": "3.10.10"
  }
 },
 "nbformat": 4,
 "nbformat_minor": 5
}
