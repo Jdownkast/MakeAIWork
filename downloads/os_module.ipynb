{
 "cells": [
  {
   "cell_type": "code",
   "execution_count": null,
   "id": "479ce799",
   "metadata": {},
   "outputs": [],
   "source": [
    "'''\n",
    "De os module zorgt ervoor dat je in python kunt communiceren met je operating system, zoals je dat ook zou doen in bash\n",
    "of de terminal.\n",
    "'''"
   ]
  },
  {
   "cell_type": "code",
   "execution_count": null,
   "id": "6924a5c7",
   "metadata": {},
   "outputs": [],
   "source": [
    "import os"
   ]
  },
  {
   "cell_type": "code",
   "execution_count": null,
   "id": "9f6bf7a1",
   "metadata": {},
   "outputs": [],
   "source": [
    "os.chdir('../week2')"
   ]
  },
  {
   "cell_type": "code",
   "execution_count": null,
   "id": "8ae07090",
   "metadata": {},
   "outputs": [],
   "source": [
    "#we kunnen de huidige directory/map printen:\n",
    "huidige_map = os.getcwd() \n",
    "print(huidige_map)"
   ]
  },
  {
   "cell_type": "code",
   "execution_count": null,
   "id": "1973155c",
   "metadata": {},
   "outputs": [],
   "source": [
    "#we kunnen een nieuwe map aanmaken\n",
    "os.mkdir('test_map')"
   ]
  },
  {
   "cell_type": "code",
   "execution_count": null,
   "id": "fee142d7",
   "metadata": {},
   "outputs": [],
   "source": [
    "#we kunnen een lijst opghalen met alle bestanden in de opgegeven map. De 'default' is de map waarin je .py file ook staat\n",
    "os.listdir()"
   ]
  },
  {
   "cell_type": "code",
   "execution_count": null,
   "id": "05bceb1f",
   "metadata": {},
   "outputs": [],
   "source": [
    "#ook kunnen we de map weer verwijderen\n",
    "os.rmdir('test_map')"
   ]
  },
  {
   "cell_type": "code",
   "execution_count": null,
   "id": "bc8ea700",
   "metadata": {},
   "outputs": [],
   "source": [
    "'''\n",
    "Deze commands zijn eigenlijk hetzelfde als de bash/terminal commands, alleen dan net even anders\n",
    "'''"
   ]
  },
  {
   "cell_type": "code",
   "execution_count": null,
   "id": "a9df7e11",
   "metadata": {},
   "outputs": [],
   "source": [
    "#we kunnen onze huidige directory veranderen met os.chdir()\n",
    "os.chdir(\"/Users/danielschene/MakeAIWork/practica/week1\")\n",
    "os.listdir()\n",
    "#Als we vervolgens vragen in welke directory we zitten, zien we dat we nu naar de \"home\" folder zijn verschoven"
   ]
  },
  {
   "cell_type": "code",
   "execution_count": null,
   "id": "7c448a73",
   "metadata": {},
   "outputs": [],
   "source": []
  }
 ],
 "metadata": {
  "kernelspec": {
   "display_name": "Python 3 (ipykernel)",
   "language": "python",
   "name": "python3"
  },
  "language_info": {
   "codemirror_mode": {
    "name": "ipython",
    "version": 3
   },
   "file_extension": ".py",
   "mimetype": "text/x-python",
   "name": "python",
   "nbconvert_exporter": "python",
   "pygments_lexer": "ipython3",
   "version": "3.10.10"
  }
 },
 "nbformat": 4,
 "nbformat_minor": 5
}
