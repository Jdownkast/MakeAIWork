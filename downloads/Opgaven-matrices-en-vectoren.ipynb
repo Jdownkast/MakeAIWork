{
 "cells": [
  {
   "cell_type": "markdown",
   "id": "2ea724be",
   "metadata": {},
   "source": [
    "# Matrices en vectoren"
   ]
  },
  {
   "cell_type": "markdown",
   "id": "18595eca",
   "metadata": {},
   "source": [
    "Er zijn meerdere manieren om een matrix te representeren.\n",
    "\n",
    "Hier kiezen we voor het volgende datamodel:\n",
    "\n",
    "`matrix_2D :: {rows: int, cols: int, data: []}`\n",
    "\n",
    "Implementeer onderstaande opdrachten in Python."
   ]
  },
  {
   "cell_type": "markdown",
   "id": "42182308",
   "metadata": {},
   "source": [
    "## Vectoren"
   ]
  },
  {
   "cell_type": "markdown",
   "id": "db43ccb1",
   "metadata": {},
   "source": [
    "### 1. Een vector als rij*"
   ]
  },
  {
   "cell_type": "markdown",
   "id": "e9ac731a",
   "metadata": {},
   "source": [
    "Representeer de onderstaande vector in code:\n",
    "\n",
    "$$\n",
    "  \\begin{pmatrix}\n",
    "    1 & 2 & 3\n",
    "  \\end{pmatrix}\n",
    "$$"
   ]
  },
  {
   "cell_type": "code",
   "execution_count": 36,
   "id": "72c55633",
   "metadata": {
    "tags": []
   },
   "outputs": [
    {
     "name": "stdout",
     "output_type": "stream",
     "text": [
      "1\n",
      "3\n",
      "1\n",
      "3\n",
      "3\n",
      "3\n"
     ]
    }
   ],
   "source": [
    "# How many rows and colums does this vector have?\n",
    "\n",
    "# 1 row, 3 columns\n",
    "\n",
    "rows = \"rows\"\n",
    "cols = \"cols\"\n",
    "data = \"data\"\n",
    "\n",
    "# Use the definition at the top to implement this vector:\n",
    "\n",
    "vec = [[1, 2, 3]]\n",
    "vecA = {rows: 1, cols: 3, data: [1, 2, 3]}\n",
    "\n",
    "# Can you print its dimensions? (rows, cols)\n",
    "\n",
    "# row & col\n",
    "print(len(vec))\n",
    "print(len(vec[0]))\n",
    "\n",
    "print(vecA[rows])\n",
    "print(vecA[cols])\n",
    "\n",
    "# Can you print the number of elements?\n",
    "\n",
    "print(len(vec) * len(vec[0]))\n",
    "print(vecA[rows] * vecA[cols])"
   ]
  },
  {
   "cell_type": "markdown",
   "id": "0abbc0ad",
   "metadata": {},
   "source": [
    "### 2. Een vector als kolom*"
   ]
  },
  {
   "cell_type": "markdown",
   "id": "ac4f647f",
   "metadata": {},
   "source": [
    "Representeer de onderstaande vector in code:\n",
    "\n",
    "$$\n",
    "  \\begin{pmatrix}\n",
    "    1 \\\\\n",
    "    2 \\\\\n",
    "    3\n",
    "  \\end{pmatrix}\n",
    "$$"
   ]
  },
  {
   "cell_type": "code",
   "execution_count": 59,
   "id": "f4f6bfc9",
   "metadata": {
    "tags": []
   },
   "outputs": [
    {
     "name": "stdout",
     "output_type": "stream",
     "text": [
      "3\n",
      "1\n",
      "3\n",
      "1\n",
      "3\n",
      "3\n"
     ]
    }
   ],
   "source": [
    "# How many rows and colums does this vector have?\n",
    "\n",
    "# 3, 1\n",
    "\n",
    "# Use the definition at the top to implement this vector:\n",
    "\n",
    "vec = [[1],[2],[3]]\n",
    "vecA = {rows: 3, cols: 1, data: [1, 2, 3]}\n",
    "\n",
    "# Can you print its dimensions? (rows, cols)\n",
    "\n",
    "# row & col\n",
    "print(len(vec))\n",
    "print(len(vec[0]))\n",
    "\n",
    "print(vecA[rows])\n",
    "print(vecA[cols])\n",
    "\n",
    "# Can you print the number of elements?\n",
    "\n",
    "print(len(vec) * len(vec[0]))\n",
    "print(vecA[rows] * vecA[cols])"
   ]
  },
  {
   "cell_type": "markdown",
   "id": "8de02084",
   "metadata": {},
   "source": [
    "### 3. Vectoren optellen**"
   ]
  },
  {
   "cell_type": "markdown",
   "id": "c2edbb39",
   "metadata": {},
   "source": [
    "Tel de onderstaande vectoren bij elkaar op:\n",
    "\n",
    "$$\n",
    "  \\begin{pmatrix}\n",
    "    1 \\\\\n",
    "    2 \\\\\n",
    "    3\n",
    "  \\end{pmatrix}\n",
    "  +\n",
    "    \\begin{pmatrix}\n",
    "    9 \\\\\n",
    "    8 \\\\\n",
    "    7\n",
    "  \\end{pmatrix}\n",
    "  =\n",
    "  ...\n",
    "$$"
   ]
  },
  {
   "cell_type": "code",
   "execution_count": 73,
   "id": "9fd6bc2a",
   "metadata": {
    "tags": []
   },
   "outputs": [
    {
     "name": "stdout",
     "output_type": "stream",
     "text": [
      "True\n",
      "True\n",
      "True\n",
      "True\n",
      "[[10], [10], [10]]\n",
      "{'rows': 3, 'cols': 1, 'data': [10, 10, 10]}\n"
     ]
    }
   ],
   "source": [
    "# Implement both vectors:\n",
    "\n",
    "vec1 = [[1], [2], [3]]\n",
    "vec2 = [[9], [8], [7]]\n",
    "\n",
    "vecA = {rows: 3, cols: 1, data: [1, 2, 3]}\n",
    "vecB = {rows: 3, cols: 1, data: [9, 8, 7]}\n",
    "\n",
    "# Can we add them? Check if dimensions are the same:\n",
    "\n",
    "print(len(vec1) == len(vec2))\n",
    "print(len(vec1[0]) == len(vec2[0]))\n",
    "\n",
    "print(vecA[rows] == vecB[rows])\n",
    "print(vecA[cols] == vecB[cols])\n",
    "\n",
    "# How do you add these vectors by hand?\n",
    "\n",
    "# 1 + 9, 2 + 8, 3 + 7\n",
    "\n",
    "# Now add the vectors in code:\n",
    "\n",
    "vec3 = [[0], [0], [0]]\n",
    "\n",
    "for i in range(len(vec1)):\n",
    "    for j in range(len(vec1[0])):\n",
    "        vec3[i][j] = vec1[i][j] + vec2[i][j]\n",
    "\n",
    "print(vec3)\n",
    "\n",
    "\n",
    "\n",
    "def empty_vec(row, col):\n",
    "    data_list = row * col * [0]\n",
    "    return {\"rows\": row, \"cols\": col, \"data\": data_list}\n",
    "    \n",
    "vecC = empty_vec(vecA[rows], vecA[cols])\n",
    "\n",
    "for element in range(len(vecC[data])):\n",
    "    vecC[data][element] = vecA[data][element] + vecB[data][element]\n",
    "    \n",
    "print(vecC)"
   ]
  },
  {
   "cell_type": "markdown",
   "id": "10e3be49",
   "metadata": {},
   "source": [
    "Tel de onderstaande vectoren bij elkaar op:\n",
    "\n",
    "$$\n",
    "  \\begin{pmatrix}\n",
    "    1 & 2 & 3\n",
    "  \\end{pmatrix}\n",
    "  +\n",
    "  \\begin{pmatrix}\n",
    "    9 & 8 & 7\n",
    "  \\end{pmatrix}\n",
    "  =\n",
    "  ...\n",
    "$$"
   ]
  },
  {
   "cell_type": "code",
   "execution_count": 76,
   "id": "3319db0c",
   "metadata": {
    "tags": []
   },
   "outputs": [
    {
     "name": "stdout",
     "output_type": "stream",
     "text": [
      "1 1\n",
      "3 3\n",
      "[[10, 10, 10]]\n",
      "{'rows': 3, 'cols': 1, 'data': [0, 0, 0]}\n",
      "{'rows': 3, 'cols': 1, 'data': [10, 10, 10]}\n"
     ]
    }
   ],
   "source": [
    "# Implement both vectors:\n",
    "\n",
    "vec1 = [[1, 2, 3]]\n",
    "vec2 = [[9, 8, 7]]\n",
    "\n",
    "# Can we add them? Check if dimensions are the same:\n",
    "\n",
    "print(len(vec1), len(vec2))\n",
    "print(len(vec1[0]), len(vec2[0]))\n",
    "\n",
    "# How do you add these vectors by hand?\n",
    "\n",
    "# 1 + 9, 2 + 8, 3 + 7\n",
    "\n",
    "# Now add the vectors in code:\n",
    "\n",
    "# MOET IK ALTIJD VOORAF DEFINIEREN ZONDER NUMPY??\n",
    "vec3 = [[0, 0, 0]]\n",
    "\n",
    "for i in range(len(vec1)):\n",
    "    for j in range(len(vec1[0])):\n",
    "        vec3[i][j] = vec1[i][j] + vec2[i][j]\n",
    "\n",
    "print(vec3)\n",
    "\n",
    "vecC = empty_vec(vecA[rows], vecA[cols])\n",
    "print(vecC)\n",
    "\n",
    "for element in range(len(vecC[data])):\n",
    "    vecC[data][element] = vecA[data][element] + vecB[data][element]\n",
    "    \n",
    "print(vecC)"
   ]
  },
  {
   "cell_type": "markdown",
   "id": "ecf7d53a",
   "metadata": {},
   "source": [
    "## Matrices"
   ]
  },
  {
   "cell_type": "markdown",
   "id": "aea58d0c",
   "metadata": {},
   "source": [
    "### 1. Een 3 x 3 matrix*"
   ]
  },
  {
   "cell_type": "markdown",
   "id": "8ecdf748",
   "metadata": {},
   "source": [
    "Representeer de onderstaande matrix in code:\n",
    "\n",
    "$$\n",
    "  \\begin{pmatrix}\n",
    "    1 & 2 & 3\\\\\n",
    "    4 & 5 & 6\\\\\n",
    "    7 & 8 & 9\\\\\n",
    "  \\end{pmatrix}\n",
    "$$"
   ]
  },
  {
   "cell_type": "code",
   "execution_count": 77,
   "id": "744a8d77",
   "metadata": {
    "tags": []
   },
   "outputs": [
    {
     "name": "stdout",
     "output_type": "stream",
     "text": [
      "3\n",
      "3\n",
      "3\n",
      "3\n",
      "9\n",
      "9\n"
     ]
    }
   ],
   "source": [
    "# How many rows and colums does this matrix have?\n",
    "\n",
    "# 3 row, 3 col\n",
    "\n",
    "# Use the definition at the top to implement this matrix:\n",
    "\n",
    "mat = [[1, 2, 3], [4, 5, 6], [7, 8, 9]]\n",
    "matA = {rows: 3, cols: 3, data: [1, 2, 3, 4, 5, 6, 7, 8, 9]}\n",
    "\n",
    "# Can you print its dimensions? (rows, cols)\n",
    "\n",
    "print(len(mat))\n",
    "print(len(mat[0]))\n",
    "\n",
    "print(matA[rows])\n",
    "print(matA[cols])\n",
    "\n",
    "# Can you print the number of elements?\n",
    "\n",
    "print(len(mat) * len(mat[0]))\n",
    "print(matA[rows] * matA[cols])"
   ]
  },
  {
   "cell_type": "markdown",
   "id": "78d195fb",
   "metadata": {},
   "source": [
    "### 2. Matrices optellen**"
   ]
  },
  {
   "cell_type": "markdown",
   "id": "1554b6d8",
   "metadata": {},
   "source": [
    "Tel de onderstaande matrices op:\n",
    "\n",
    "$$\n",
    "  \\begin{pmatrix}\n",
    "    1 & 2 & 3\\\\\n",
    "    4 & 5 & 6\\\\\n",
    "    7 & 8 & 9\\\\\n",
    "  \\end{pmatrix}\n",
    "  +\n",
    "    \\begin{pmatrix}\n",
    "    9 & 8 & 7\\\\\n",
    "    6 & 5 & 4\\\\\n",
    "    3 & 2 & 1\\\\\n",
    "  \\end{pmatrix}\n",
    "  =\n",
    "  ...\n",
    "$$"
   ]
  },
  {
   "cell_type": "code",
   "execution_count": 81,
   "id": "ac6bd48c",
   "metadata": {
    "tags": []
   },
   "outputs": [
    {
     "name": "stdout",
     "output_type": "stream",
     "text": [
      "True\n",
      "True\n",
      "True\n",
      "True\n",
      "[[10, 10, 10], [10, 10, 10], [10, 10, 10]]\n",
      "{'rows': 3, 'cols': 3, 'data': [0, 0, 0, 0, 0, 0, 0, 0, 0]}\n",
      "{'rows': 3, 'cols': 3, 'data': [10, 10, 10, 10, 10, 10, 10, 10, 10]}\n"
     ]
    }
   ],
   "source": [
    "# Implement both matrices:\n",
    "\n",
    "mat1 = [[1, 2, 3], [4, 5, 6], [7, 8, 9]]\n",
    "mat2 = [[9, 8, 7], [6, 5, 4], [3, 2, 1]]\n",
    "\n",
    "matA = {rows: 3, cols: 3, data: [1, 2, 3, 4, 5, 6, 7, 8, 9]}\n",
    "matB = {rows: 3, cols: 3, data: [9, 8, 7, 6, 5, 4, 3, 2, 1]}\n",
    "\n",
    "# Can we add them? Check if dimensions are the same:\n",
    "\n",
    "print(len(mat1) == len(mat2))\n",
    "print(len(mat1[0]) == len(mat2[0]))\n",
    "\n",
    "print(matA[rows] == matB[rows])\n",
    "print(matA[cols] == matB[cols])\n",
    "\n",
    "# How do you add these matrices by hand?\n",
    "\n",
    "# 1 + 9, 2 + 8, 3 + 7\n",
    "# 4 + 6, ...\n",
    "\n",
    "# Now add the matrices in code:\n",
    "\n",
    "mat3 = [[0, 0, 0], [0, 0, 0], [0, 0, 0]]\n",
    "for i in range(len(mat1)):\n",
    "    for j in range(len(mat1[0])):\n",
    "        mat3[i][j] = mat1[i][j] + mat2[i][j]\n",
    "\n",
    "print(mat3)\n",
    "\n",
    "\n",
    "def empty_mat(row, col):\n",
    "    data_list = row * col * [0]\n",
    "    return {\"rows\": row, \"cols\": col, \"data\": data_list}\n",
    "\n",
    "matC = empty_mat(3, 3)\n",
    "print(matC)\n",
    "\n",
    "for element in range(len(matC[data])):\n",
    "    matC[data][element] = matA[data][element] + matB[data][element] \n",
    "    \n",
    "print(matC)\n",
    "\n",
    "\n",
    "# In case you didn't: can you generalize this algorithm?\n",
    "\n",
    "# ..."
   ]
  },
  {
   "cell_type": "markdown",
   "id": "7bff9837",
   "metadata": {},
   "source": [
    "### 3. Matrices vermenigvuldigen***"
   ]
  },
  {
   "cell_type": "markdown",
   "id": "4dba734d",
   "metadata": {},
   "source": [
    "Vermenigvuldig de onderstaande matrices:\n",
    "\n",
    "$$\n",
    "  \\begin{pmatrix}\n",
    "    1 & 2 & 3\\\\\n",
    "    4 & 5 & 6\n",
    "  \\end{pmatrix}\n",
    "  *\n",
    "    \\begin{pmatrix}\n",
    "    9 & 8\\\\\n",
    "    6 & 5\\\\\n",
    "    3 & 2\\\\\n",
    "  \\end{pmatrix}\n",
    "  =\n",
    "  ...\n",
    "$$"
   ]
  },
  {
   "cell_type": "code",
   "execution_count": 116,
   "id": "9895aaab",
   "metadata": {
    "tags": []
   },
   "outputs": [
    {
     "name": "stdout",
     "output_type": "stream",
     "text": [
      "True\n",
      "True\n",
      "[[30, 24], [84, 69]]\n",
      "{'rows': 2, 'cols': 2, 'data': [0, 0, 0, 0]}\n",
      "{'rows': 2, 'cols': 2, 'data': [30, 24, 84, 69]}\n"
     ]
    }
   ],
   "source": [
    "# Implement both matrices:\n",
    "\n",
    "mat1 = [[1, 2, 3], [4, 5, 6]]\n",
    "mat2 = [[9, 8], [6, 5], [3, 2]]\n",
    "\n",
    "matA = {rows: 2, cols: 3, data: [1, 2, 3, 4, 5, 6]}\n",
    "matB = {rows: 3, cols: 2, data: [9, 8, 6, 5, 3, 2]}\n",
    "        \n",
    "\n",
    "# Can we multiply them? Check if dimensions satisfy the (M by N) * (N by K) = (M by K) rule:\n",
    "\n",
    "print(len(mat1[0]) == len(mat2))\n",
    "print(matA[cols] == matB[rows])\n",
    "\n",
    "# How do you multiply these matrices by hand?\n",
    "\n",
    "# 1*9 + 2*6 + 3*3 | 1*8 + 2*5 + 3*2\n",
    "# 4*9 + 5*6 + 6* 3 | 4*8 + 5*5 + 6*2\n",
    "\n",
    "# Now multiply the matrices in code:\n",
    "\n",
    "mat3 = [[0, 0], [0, 0]]\n",
    "\n",
    "for i in range(len(mat1)):\n",
    "    for j in range(len(mat2[0])): \n",
    "        for k in range(len(mat1[0])):\n",
    "            mat3[i][j] += mat1[i][k] * mat2[k][j]\n",
    "\n",
    "print(mat3)\n",
    "\n",
    "matC = empty_mat(matA[rows], matB[cols])\n",
    "print(matC)\n",
    "\n",
    "\n",
    "for element in range(len(matC[data])):\n",
    "    multA = element // matA[rows]\n",
    "    multB = element % matB[cols]\n",
    "\n",
    "    for k in range(matA[cols]):\n",
    "        matC[data][element] += matA[data][(multA * (matA[cols])) + k] * matB[data][multB + (matB[cols] * k)]\n",
    "\n",
    "print(matC)\n",
    "# In case you didn't: can you generalize this algorithm?\n",
    "\n",
    "# ..."
   ]
  },
  {
   "cell_type": "code",
   "execution_count": 160,
   "id": "811f662a-f2d0-46de-aa4b-2a7a0e88faf4",
   "metadata": {
    "tags": []
   },
   "outputs": [
    {
     "name": "stdout",
     "output_type": "stream",
     "text": [
      "{'rows': 3, 'cols': 3, 'data': [10, 10, 10, 10, 10, 10, 10, 10, 10]}\n",
      "{'rows': 2, 'cols': 2, 'data': [30, 24, 84, 69]}\n"
     ]
    }
   ],
   "source": [
    "# in functies\n",
    "# lege matrix\n",
    "\n",
    "def empty_mat(row, col):\n",
    "    data_list = row * col * [0]\n",
    "    return {\"rows\": row, \"cols\": col, \"data\": data_list}\n",
    "\n",
    "# optellen\n",
    "matA = {rows: 3, cols: 3, data: [1, 2, 3, 4, 5, 6, 7, 8, 9]}\n",
    "matB = {rows: 3, cols: 3, data: [9, 8, 7, 6, 5, 4, 3, 2, 1]}\n",
    "\n",
    "def add_mat(m1, m2):\n",
    "    if m1[rows] == m2[rows] and m1[cols] == m2[cols]:\n",
    "        temp_mat = empty_mat(m1[rows], m1[cols])\n",
    "        \n",
    "        for element in range(len(temp_mat[data])):\n",
    "            temp_mat[data][element]= m1[data][element] + m2[data][element] \n",
    "        \n",
    "        return temp_mat\n",
    "    \n",
    "    else:\n",
    "        print('Matrices niet geschikt om op te tellen')\n",
    "\n",
    "\n",
    "print(add_mat(matA, matB))\n",
    "\n",
    "\n",
    "# vermenigvuldigen\n",
    "matA = {rows: 2, cols: 3, data: [1, 2, 3, 4, 5, 6]}\n",
    "matB = {rows: 3, cols: 2, data: [9, 8, 6, 5, 3, 2]}\n",
    "\n",
    "def multiply_mat(m1, m2):\n",
    "    if m1[cols] == m2[rows]:\n",
    "        temp_mat = empty_mat(m1[rows], m2[cols])\n",
    "        \n",
    "        for element in range(m1[rows] * m2[cols]):\n",
    "            mult1 = element // m1[rows]\n",
    "            mult2 = element % m2[cols]\n",
    "\n",
    "            for k in range(m1[cols]):\n",
    "                temp_mat[data][element] += m1[data][(mult1 * (m1[cols])) + k] * m2[data][mult2 + (m2[cols] * k)]\n",
    "        \n",
    "        return temp_mat\n",
    "    \n",
    "    else:\n",
    "        print('Matrices niet geschikt om te vermenigvuldigen')\n",
    "\n",
    "print(multiply_mat(matA, matB))"
   ]
  },
  {
   "cell_type": "code",
   "execution_count": 18,
   "id": "8161781b-a24c-40e0-b1ae-64c8296b365d",
   "metadata": {
    "tags": []
   },
   "outputs": [
    {
     "name": "stdout",
     "output_type": "stream",
     "text": [
      "Matrix met 4 rijen en 3 kolommen:\n",
      "\t\t\t\t1\t2\t3\t\n",
      "\t\t\t\t4\t5\t6\t\n",
      "\t\t\t\t7\t8\t9\t\n",
      "\t\t\t\t10\t11\t12\t\n",
      "Matrix met 3 rijen en 2 kolommen:\n",
      "\t\t\t\t1\t2\t\n",
      "\t\t\t\t3\t4\t\n",
      "\t\t\t\t5\t6\t\n",
      "Matrices niet geschikt om op te tellen.\n",
      "Matrix met 4 rijen en 2 kolommen:\n",
      "\t\t\t\t22\t28\t\n",
      "\t\t\t\t49\t64\t\n",
      "\t\t\t\t76\t100\t\n",
      "\t\t\t\t103\t136\t\n"
     ]
    }
   ],
   "source": [
    "# in class\n",
    "\n",
    "class Matrix:\n",
    "    def __init__(self, rows, cols, data=None):\n",
    "        self.rows = rows\n",
    "        self.cols = cols\n",
    "        self.data = data if data is not None else rows * cols * [0]\n",
    "\n",
    "    def __str__(self):\n",
    "        # Als matrix geprint wordt, noem aantal rijen en kolommen \n",
    "        # en print matrix \n",
    "        self_string = f\"Matrix met {self.rows} rijen en {self.cols} kolommen:\"\n",
    "        \n",
    "        for row in range(self.rows):\n",
    "            self_string = self_string + \"\\n\\t\\t\\t\\t\" \n",
    "            for col in range(self.cols):\n",
    "                self_string = self_string + str(self.data[col + (row * self.cols)]) + \"\\t\"\n",
    "                \n",
    "        return self_string\n",
    "    \n",
    "    def empty_mat(row, col):\n",
    "        data_list = row * col * [0]\n",
    "        return {\"rows\": row, \"cols\": col, \"data\": data_list}\n",
    "    \n",
    "    def add(self, m2):\n",
    "        # Laat matrix andere matrix bij optellen\n",
    "        if self.rows == m2.rows and self.cols == m2.cols:\n",
    "            temp_mat = Matrix(self.rows, self.cols)\n",
    "\n",
    "            for element in range(len(temp_mat.data)):\n",
    "                temp_mat.data[element]= self.data[element] + m2.data[element] \n",
    "\n",
    "            return temp_mat\n",
    "\n",
    "        else:\n",
    "            return 'Matrices niet geschikt om op te tellen.'\n",
    "    \n",
    "    def multiply(self, m2):\n",
    "        # Laat matrix met andere matrix vermenigvuldigen\n",
    "        if self.cols == m2.rows:\n",
    "            temp_mat = Matrix(self.rows, m2.cols)\n",
    "\n",
    "            for element in range(self.rows * m2.cols):\n",
    "                mult1 = element // temp_mat.cols\n",
    "                mult2 = element % temp_mat.cols\n",
    "\n",
    "                for k in range(self.cols):\n",
    "                    temp_mat.data[element] += self.data[(mult1 * (self.cols)) + k] * m2.data[mult2 + (m2.cols * k)]\n",
    "\n",
    "            return temp_mat\n",
    "\n",
    "        else:\n",
    "            return 'Matrices niet geschikt om te vermenigvuldigen.'\n",
    "    \n",
    "dataA = [1, 2, 3, 4, 5, 6, 7, 8, 9]\n",
    "dataB = [9, 8, 7, 6, 5, 4, 3, 2, 1]\n",
    "dataC = [1, 2, 3, 4, 5, 6, 7, 8, 9, 10, 11, 12]\n",
    "dataD = [1, 2, 3, 4, 5, 6]\n",
    "\n",
    "matA = Matrix(4, 3, dataC)\n",
    "matB = Matrix(3, 2, dataD)\n",
    "\n",
    "print(matA)\n",
    "print(matB)\n",
    "print(matA.add(matB))\n",
    "print(matA.multiply(matB))"
   ]
  },
  {
   "cell_type": "code",
   "execution_count": null,
   "id": "d1d3b1bf-9c0c-4304-8bd7-a5bcdd983711",
   "metadata": {},
   "outputs": [],
   "source": []
  },
  {
   "cell_type": "code",
   "execution_count": null,
   "id": "e62b2394-22e8-4a71-a4b2-97945bd667cc",
   "metadata": {},
   "outputs": [],
   "source": [
    "# "
   ]
  }
 ],
 "metadata": {
  "kernelspec": {
   "display_name": "Python 3 (ipykernel)",
   "language": "python",
   "name": "python3"
  },
  "language_info": {
   "codemirror_mode": {
    "name": "ipython",
    "version": 3
   },
   "file_extension": ".py",
   "mimetype": "text/x-python",
   "name": "python",
   "nbconvert_exporter": "python",
   "pygments_lexer": "ipython3",
   "version": "3.10.10"
  },
  "vscode": {
   "interpreter": {
    "hash": "3a0bff5f05738e5c0bd978a16b1ca5eabe14ee174dcf137eca8ef4d3bfee413d"
   }
  }
 },
 "nbformat": 4,
 "nbformat_minor": 5
}
