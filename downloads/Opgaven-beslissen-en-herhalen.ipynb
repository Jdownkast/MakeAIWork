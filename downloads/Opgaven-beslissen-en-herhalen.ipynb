{
 "cells": [
  {
   "cell_type": "markdown",
   "id": "6e93d43b",
   "metadata": {},
   "source": [
    "# Beslissen en herhalen"
   ]
  },
  {
   "cell_type": "markdown",
   "id": "a4f6c97b",
   "metadata": {},
   "source": [
    "Om effectief te kunnen programmeren moet je:\n",
    "\n",
    "#### 1. Weten welke basisinstructies je tot je beschikking hebt\n",
    "Een mooi startpunt is [W3Schools over Python](https://www.w3schools.com/python/default.asp).\n",
    "\n",
    "\n",
    "#### 2. Weten hoe je de juiste instructies kunt vinden\n",
    "De zoektermen volgen uit je literate programming beschrijving en je pseudo code.\n",
    "\n",
    "### Let op!\n",
    "Het kan verleidelijk zijn om de OPLOSSING te googlen, zeker in het begin.\n",
    "\n",
    "##### Als je merkt dat je dit aan het doen bent, dan heb je de literate programming steps niet precies genoeg uitgewerkt.\n",
    "De opdracht is dan te groot en te complex."
   ]
  },
  {
   "cell_type": "markdown",
   "id": "92ed6127",
   "metadata": {},
   "source": [
    "## Basics: beslissen"
   ]
  },
  {
   "cell_type": "markdown",
   "id": "e0b00e53",
   "metadata": {},
   "source": [
    "Bestudeer [if else statements](https://www.w3schools.com/python/python_conditions.asp)\n",
    "\n",
    "(de voorbeelden zijn interactief)"
   ]
  },
  {
   "cell_type": "markdown",
   "id": "eb320abd",
   "metadata": {},
   "source": [
    "### 1. Vergelijken**"
   ]
  },
  {
   "cell_type": "markdown",
   "id": "f522b9d8",
   "metadata": {},
   "source": [
    "- Laat de gebruiker twee woorden invoeren\n",
    "- Geef aan welk woord het langs is\n",
    "- Neem ook het geval dat ze gelijk zijn mee\n",
    "- Print het resultaat\n",
    "\n",
    "Hint: je mag in dit geval [de functie len()](https://www.w3schools.com/python/python_strings.asp) gebruiken"
   ]
  },
  {
   "cell_type": "code",
   "execution_count": 3,
   "id": "0e2aedfa",
   "metadata": {
    "tags": []
   },
   "outputs": [
    {
     "name": "stdin",
     "output_type": "stream",
     "text": [
      "Vul een woord in:  David\n",
      "Vul nog een woord in:  Jarig\n"
     ]
    },
    {
     "name": "stdout",
     "output_type": "stream",
     "text": [
      "Beide woorden zijn even lang.\n"
     ]
    }
   ],
   "source": [
    "word1 = input(\"Vul een woord in: \")\n",
    "word2 = input(\"Vul nog een woord in: \")\n",
    "\n",
    "if len(word1) > len(word2):\n",
    "    wordLong = word1\n",
    "elif len(word1) < len(word2):\n",
    "    wordLong = word2\n",
    "else:\n",
    "    wordLong = \"Both\"\n",
    "    \n",
    "if not wordLong == \"Both\":\n",
    "    print(f\"Het woord '{wordLong}' is het langste woord.\")\n",
    "else:\n",
    "    print(\"Beide woorden zijn even lang.\")"
   ]
  },
  {
   "cell_type": "markdown",
   "id": "0b5a8819",
   "metadata": {},
   "source": [
    "### 2. Categoriseren**"
   ]
  },
  {
   "cell_type": "markdown",
   "id": "49270585",
   "metadata": {},
   "source": [
    "- Vraag de gebruiker om een getal\n",
    "- Bepaal of dit getal even is\n",
    "- Print het resultaat\n",
    "\n",
    "Hint: je mag in dit geval de [operatoren '/' en '%'](https://www.w3schools.com/python/python_operators.asp) gebruiken"
   ]
  },
  {
   "cell_type": "code",
   "execution_count": 7,
   "id": "98a288c9",
   "metadata": {
    "tags": []
   },
   "outputs": [
    {
     "name": "stdin",
     "output_type": "stream",
     "text": [
      "Vul een getal in 6\n"
     ]
    },
    {
     "name": "stdout",
     "output_type": "stream",
     "text": [
      "Het is een even getal\n"
     ]
    }
   ],
   "source": [
    "number = int(input(\"Vul een getal in\"))\n",
    "\n",
    "if number % 2 == 0:\n",
    "    print(\"Het is een even getal\")\n",
    "else:\n",
    "    print(\"Het is een oneven getal\")"
   ]
  },
  {
   "cell_type": "markdown",
   "id": "2be34655",
   "metadata": {},
   "source": [
    "## Basics: herhalen"
   ]
  },
  {
   "cell_type": "markdown",
   "id": "8491ff0e",
   "metadata": {},
   "source": [
    "Bestudeer [for loops](https://www.w3schools.com/python/python_for_loops.asp)\n",
    "\n",
    "Bestudeer [while loops](https://www.w3schools.com/python/python_while_loops.asp)\n",
    "\n",
    "(de voorbeelden zijn interactief)"
   ]
  },
  {
   "cell_type": "markdown",
   "id": "af980848",
   "metadata": {},
   "source": [
    "### 1. Printen*"
   ]
  },
  {
   "cell_type": "markdown",
   "id": "120a2dd8",
   "metadata": {},
   "source": [
    "- Print je naam 23 keer uit\n",
    "\n",
    "Extra: kun je het er ook een nummer voor zetten?\n",
    "\n",
    "    1. Ruud\n",
    "    2. Ruud\n",
    "    3. Ruud\n",
    "\n",
    "    ...\n",
    "\n",
    "Hint: kijk nog eens naar de les van Jeroen over strings"
   ]
  },
  {
   "cell_type": "code",
   "execution_count": 12,
   "id": "4d8cb9fb",
   "metadata": {
    "tags": []
   },
   "outputs": [
    {
     "name": "stdout",
     "output_type": "stream",
     "text": [
      "0. David\n",
      "1. David\n",
      "2. David\n",
      "3. David\n",
      "4. David\n",
      "5. David\n",
      "6. David\n",
      "7. David\n",
      "8. David\n",
      "9. David\n",
      "10. David\n",
      "11. David\n",
      "12. David\n",
      "13. David\n",
      "14. David\n",
      "15. David\n",
      "16. David\n",
      "17. David\n",
      "18. David\n",
      "19. David\n",
      "20. David\n",
      "21. David\n",
      "22. David\n"
     ]
    }
   ],
   "source": [
    "for i in range(23):\n",
    "    print(i, \". David\", sep='')"
   ]
  },
  {
   "cell_type": "markdown",
   "id": "379ec167",
   "metadata": {},
   "source": [
    "### 2. Optellen*"
   ]
  },
  {
   "cell_type": "markdown",
   "id": "d21d8212",
   "metadata": {},
   "source": [
    "- Tel de getallen 0, 1, 2, ... t/m 100 op\n",
    "- Print het resultaat"
   ]
  },
  {
   "cell_type": "code",
   "execution_count": 15,
   "id": "92ac6462",
   "metadata": {
    "tags": []
   },
   "outputs": [
    {
     "name": "stdout",
     "output_type": "stream",
     "text": [
      "5050\n"
     ]
    }
   ],
   "source": [
    "lastNum = int(input(\"Vul een getal in boven de 0: \"))\n",
    "result = 0\n",
    "\n",
    "for i in range(lastNum + 1):\n",
    "    result += i\n",
    "    \n",
    "print(result)"
   ]
  },
  {
   "cell_type": "markdown",
   "id": "9d394ec4",
   "metadata": {},
   "source": [
    "### 3. Print een specifieke som**"
   ]
  },
  {
   "cell_type": "markdown",
   "id": "894c9c7e",
   "metadata": {},
   "source": [
    "- Print de som van een getal en het vorige getal\n",
    "- Doe dit van nul tot aan een getal dat de gebruiker invoert"
   ]
  },
  {
   "cell_type": "code",
   "execution_count": 4,
   "id": "d6274b0a",
   "metadata": {
    "tags": []
   },
   "outputs": [
    {
     "name": "stdin",
     "output_type": "stream",
     "text": [
      "Vul een getal in boven de 0:  6\n"
     ]
    },
    {
     "name": "stdout",
     "output_type": "stream",
     "text": [
      "0 + 6 = 6\n"
     ]
    },
    {
     "name": "stdin",
     "output_type": "stream",
     "text": [
      "Vul een getal in boven de 0:  7\n"
     ]
    },
    {
     "name": "stdout",
     "output_type": "stream",
     "text": [
      "6 + 7 = 13\n"
     ]
    },
    {
     "name": "stdin",
     "output_type": "stream",
     "text": [
      "Vul een getal in boven de 0:  9\n"
     ]
    },
    {
     "name": "stdout",
     "output_type": "stream",
     "text": [
      "7 + 9 = 16\n"
     ]
    },
    {
     "name": "stdin",
     "output_type": "stream",
     "text": [
      "Vul een getal in boven de 0:  0\n"
     ]
    },
    {
     "name": "stdout",
     "output_type": "stream",
     "text": [
      "9 + 0 = 9\n"
     ]
    },
    {
     "name": "stdin",
     "output_type": "stream",
     "text": [
      "Vul een getal in boven de 0:  0\n"
     ]
    },
    {
     "name": "stdout",
     "output_type": "stream",
     "text": [
      "0 + 0 = 0\n"
     ]
    }
   ],
   "source": [
    "newNum = 0\n",
    "\n",
    "for i in range(5):\n",
    "    oldNum = newNum\n",
    "    newNum = int(input(\"Vul een getal in boven de 0: \"))\n",
    "    print(f\"{oldNum} + {newNum} = \", oldNum+newNum, sep=\"\")"
   ]
  },
  {
   "cell_type": "markdown",
   "id": "9e30cf7d",
   "metadata": {},
   "source": [
    "## Gecombineerd"
   ]
  },
  {
   "cell_type": "markdown",
   "id": "d728ef64",
   "metadata": {},
   "source": [
    "### 1. Print alle medeklinkers van een woord of zin***"
   ]
  },
  {
   "cell_type": "markdown",
   "id": "0cfcd436",
   "metadata": {},
   "source": [
    "- Vraag de gebruiker om een woord of zin in te voeren\n",
    "- Print vervolgens alle medeklinkers\n",
    "- Als de invoer een zin is, print dan ook alle spaties en leestekens"
   ]
  },
  {
   "cell_type": "code",
   "execution_count": 21,
   "id": "0112311d",
   "metadata": {
    "tags": []
   },
   "outputs": [
    {
     "name": "stdout",
     "output_type": "stream",
     "text": [
      "smpl\n"
     ]
    },
    {
     "name": "stdin",
     "output_type": "stream",
     "text": [
      "Vul een woord of een zin in:  Dit is een zin zonder klinkers.\n"
     ]
    },
    {
     "name": "stdout",
     "output_type": "stream",
     "text": [
      "Dt s n zn zndr klnkrs.\n"
     ]
    }
   ],
   "source": [
    "# 1. Start simple: take the word \"simpel\"\n",
    "word = \"simple\"\n",
    "\n",
    "# 2. Explain your solution in words only\n",
    "#Remove all vowels from word\n",
    "\n",
    "# 3. Write down your solution in pseudo code\n",
    "#Replace vowels with ''\n",
    "\n",
    "# 4. Implement your pseudo code in Python\n",
    "word = word.replace(\"a\", \"\")\n",
    "word = word.replace(\"u\", \"\")\n",
    "word = word.replace(\"o\", \"\")\n",
    "word = word.replace(\"i\", \"\")\n",
    "word = word.replace(\"e\", \"\")\n",
    "\n",
    "print(word)\n",
    "\n",
    "# 5. Extend your solution to the general case\n",
    "word = input(\"Vul een woord of een zin in: \")\n",
    "\n",
    "word = word.replace(\"a\", \"\")\n",
    "word = word.replace(\"u\", \"\")\n",
    "word = word.replace(\"o\", \"\")\n",
    "word = word.replace(\"i\", \"\")\n",
    "word = word.replace(\"e\", \"\")\n",
    "\n",
    "print(word)"
   ]
  },
  {
   "cell_type": "markdown",
   "id": "ed2dd7e2",
   "metadata": {},
   "source": [
    "### 2. Print een diamant vorm***"
   ]
  },
  {
   "cell_type": "markdown",
   "id": "d8438e85",
   "metadata": {},
   "source": [
    "- Vraag de gebruiker om een hoogte\n",
    "- Print vervolgens een diamant van die hoogte\n",
    "\n",
    "Hint: zijn er hoogtes waarvoor dit niet lukt? Zo ja, laat de gebruiker dit dan weten."
   ]
  },
  {
   "cell_type": "code",
   "execution_count": 40,
   "id": "8c5501e3",
   "metadata": {
    "tags": []
   },
   "outputs": [
    {
     "name": "stdout",
     "output_type": "stream",
     "text": [
      "   *   \n",
      "  ***  \n",
      " ***** \n",
      "*******\n",
      " ***** \n",
      "  ***  \n",
      "   *   \n"
     ]
    },
    {
     "name": "stdin",
     "output_type": "stream",
     "text": [
      "Vul een getal in voor de hoogte van de diamand:  7\n"
     ]
    },
    {
     "name": "stdout",
     "output_type": "stream",
     "text": [
      "    *   \n",
      "   ***  \n",
      "  ***** \n",
      " *******\n",
      "********* \n",
      " *******  \n",
      "  *****   \n",
      "   ***    \n",
      "    *     \n"
     ]
    }
   ],
   "source": [
    "# An example with height 7\n",
    "\n",
    "#    *\n",
    "#   ***\n",
    "#  *****\n",
    "# *******\n",
    "#  *****\n",
    "#   ***\n",
    "#    *\n",
    "\n",
    "# 1. Start simple: take the example above\n",
    "print(\"   *   \")\n",
    "print(\"  ***  \")\n",
    "print(\" ***** \")\n",
    "print(\"*******\")\n",
    "print(\" ***** \")\n",
    "print(\"  ***  \")\n",
    "print(\"   *   \")\n",
    "\n",
    "# 2. Explain your solution in words only\n",
    "# Ask height, height is same as lenght in middle. Lenght in middle minus 2 is lenght in layer above/below, again minus 2 for subsequent layers. \n",
    "\n",
    "# 3. Write down your solution in pseudo code\n",
    "# Ask input in integer\n",
    "# Input is number of stars in middle, also height of diamond\n",
    "# Differentiate in even and odd numbers\n",
    "# Starting stars: even numbers have 2 * in top, uneven have 1 *\n",
    "# Make two loops, one for upper and one for lower part of diamond\n",
    "# Use loop to make correct amount of spaces \n",
    "# And also adjust number of stars\n",
    "\n",
    "# 4. Implement your pseudo code in Python\n",
    "height = int(input(\"Vul een getal in voor de hoogte van de diamand: \"))\n",
    "\n",
    "if height % 2 == 1:\n",
    "    oddOrNot = \"Odd\"\n",
    "    halfHeight = int((height - 1) / 2)\n",
    "    startStars = 1\n",
    "else:\n",
    "    oddOrNot = \"Not\"\n",
    "    halfHeight = int((height - 2) / 2)\n",
    "    startStars = 2\n",
    "\n",
    "if oddOrNot == \"Odd\":\n",
    "    stars = startStars\n",
    "    \n",
    "    for lines in range(halfHeight + 1):\n",
    "        print((halfHeight - lines + 1) * \" \", stars * \"*\", (halfHeight - lines) * \" \", sep=\"\")\n",
    "        stars += 2\n",
    "        \n",
    "    for lines in range(halfHeight + 2):\n",
    "        print((lines) * \" \", stars * \"*\", (lines + 1) * \" \", sep=\"\")\n",
    "        stars -= 2\n",
    "        \n",
    "# 5. Extend your solution to the general case"
   ]
  },
  {
   "cell_type": "code",
   "execution_count": null,
   "id": "7baf7936-5aec-4a3f-ac69-948fd098acde",
   "metadata": {},
   "outputs": [],
   "source": []
  }
 ],
 "metadata": {
  "kernelspec": {
   "display_name": "Python 3 (ipykernel)",
   "language": "python",
   "name": "python3"
  },
  "language_info": {
   "codemirror_mode": {
    "name": "ipython",
    "version": 3
   },
   "file_extension": ".py",
   "mimetype": "text/x-python",
   "name": "python",
   "nbconvert_exporter": "python",
   "pygments_lexer": "ipython3",
   "version": "3.10.10"
  }
 },
 "nbformat": 4,
 "nbformat_minor": 5
}
